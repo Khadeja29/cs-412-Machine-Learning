{
  "nbformat": 4,
  "nbformat_minor": 0,
  "metadata": {
    "colab": {
      "name": " KHADEJAIQBAL_26242_ML202102_HW2.ipynb",
      "provenance": [],
      "collapsed_sections": [],
      "authorship_tag": "ABX9TyNKICfWt+iR88+fbF+c1mXC",
      "include_colab_link": true
    },
    "kernelspec": {
      "name": "python3",
      "display_name": "Python 3"
    },
    "language_info": {
      "name": "python"
    }
  },
  "cells": [
    {
      "cell_type": "markdown",
      "metadata": {
        "id": "view-in-github",
        "colab_type": "text"
      },
      "source": [
        "<a href=\"https://colab.research.google.com/github/Khadeja29/cs-412-Machine-Learning-Real-Estate-Regression/blob/main/KHADEJAIQBAL_26242_ML202102_HW2.ipynb\" target=\"_parent\"><img src=\"https://colab.research.google.com/assets/colab-badge.svg\" alt=\"Open In Colab\"/></a>"
      ]
    },
    {
      "cell_type": "markdown",
      "metadata": {
        "id": "GMOcgHpAgiaM"
      },
      "source": [
        "# CS 412 Machine Learning 2020 \n",
        "\n",
        "# Assignment 2/Q1\n",
        "\n",
        "## Task\n",
        "\n",
        "Implement a Simple Regression and Polynomial Regression\n",
        "models to predict real estate prices using the scikit-learn library.\n",
        "\n",
        "\n",
        "## Dataset\n",
        "\n",
        "[**Real estate price prediction** ](https://www.kaggle.com/quantbruce/real-estate-price-prediction)\n",
        "\n",
        "\n",
        "\n",
        "\n"
      ]
    },
    {
      "cell_type": "markdown",
      "metadata": {
        "id": "ui92KwYmlLzw"
      },
      "source": [
        "# 1) Initialize"
      ]
    },
    {
      "cell_type": "code",
      "metadata": {
        "colab": {
          "base_uri": "https://localhost:8080/"
        },
        "id": "lZzB8kqPgZoL",
        "outputId": "32db4911-258a-43ff-97cf-7a9fee7f423e"
      },
      "source": [
        "from google.colab import drive\n",
        "drive.mount('/content/drive')"
      ],
      "execution_count": null,
      "outputs": [
        {
          "output_type": "stream",
          "text": [
            "Drive already mounted at /content/drive; to attempt to forcibly remount, call drive.mount(\"/content/drive\", force_remount=True).\n"
          ],
          "name": "stdout"
        }
      ]
    },
    {
      "cell_type": "markdown",
      "metadata": {
        "id": "O0fgZLyPlQoY"
      },
      "source": [
        "# 2) Load Dataset"
      ]
    },
    {
      "cell_type": "code",
      "metadata": {
        "id": "FXoTFJt2lPs6"
      },
      "source": [
        "import pandas as pd\n",
        "import numpy as np\n",
        "import matplotlib.pyplot as plt\n",
        "import time\n",
        "import seaborn as sns\n",
        "\n",
        "real_estate_df = pd.read_csv('/content/drive/MyDrive/Real estate.csv')"
      ],
      "execution_count": null,
      "outputs": []
    },
    {
      "cell_type": "code",
      "metadata": {
        "colab": {
          "base_uri": "https://localhost:8080/",
          "height": 221
        },
        "id": "aMJKPoRsm0eL",
        "outputId": "74a1a554-66f1-4fc1-f49a-9b0e2d2d6050"
      },
      "source": [
        "real_estate_df.tail(5)"
      ],
      "execution_count": null,
      "outputs": [
        {
          "output_type": "execute_result",
          "data": {
            "text/html": [
              "<div>\n",
              "<style scoped>\n",
              "    .dataframe tbody tr th:only-of-type {\n",
              "        vertical-align: middle;\n",
              "    }\n",
              "\n",
              "    .dataframe tbody tr th {\n",
              "        vertical-align: top;\n",
              "    }\n",
              "\n",
              "    .dataframe thead th {\n",
              "        text-align: right;\n",
              "    }\n",
              "</style>\n",
              "<table border=\"1\" class=\"dataframe\">\n",
              "  <thead>\n",
              "    <tr style=\"text-align: right;\">\n",
              "      <th></th>\n",
              "      <th>No</th>\n",
              "      <th>X1 transaction date</th>\n",
              "      <th>X2 house age</th>\n",
              "      <th>X3 distance to the nearest MRT station</th>\n",
              "      <th>X4 number of convenience stores</th>\n",
              "      <th>X5 latitude</th>\n",
              "      <th>X6 longitude</th>\n",
              "      <th>Y house price of unit area</th>\n",
              "    </tr>\n",
              "  </thead>\n",
              "  <tbody>\n",
              "    <tr>\n",
              "      <th>409</th>\n",
              "      <td>410</td>\n",
              "      <td>2013.000</td>\n",
              "      <td>13.7</td>\n",
              "      <td>4082.01500</td>\n",
              "      <td>0</td>\n",
              "      <td>24.94155</td>\n",
              "      <td>121.50381</td>\n",
              "      <td>15.4</td>\n",
              "    </tr>\n",
              "    <tr>\n",
              "      <th>410</th>\n",
              "      <td>411</td>\n",
              "      <td>2012.667</td>\n",
              "      <td>5.6</td>\n",
              "      <td>90.45606</td>\n",
              "      <td>9</td>\n",
              "      <td>24.97433</td>\n",
              "      <td>121.54310</td>\n",
              "      <td>50.0</td>\n",
              "    </tr>\n",
              "    <tr>\n",
              "      <th>411</th>\n",
              "      <td>412</td>\n",
              "      <td>2013.250</td>\n",
              "      <td>18.8</td>\n",
              "      <td>390.96960</td>\n",
              "      <td>7</td>\n",
              "      <td>24.97923</td>\n",
              "      <td>121.53986</td>\n",
              "      <td>40.6</td>\n",
              "    </tr>\n",
              "    <tr>\n",
              "      <th>412</th>\n",
              "      <td>413</td>\n",
              "      <td>2013.000</td>\n",
              "      <td>8.1</td>\n",
              "      <td>104.81010</td>\n",
              "      <td>5</td>\n",
              "      <td>24.96674</td>\n",
              "      <td>121.54067</td>\n",
              "      <td>52.5</td>\n",
              "    </tr>\n",
              "    <tr>\n",
              "      <th>413</th>\n",
              "      <td>414</td>\n",
              "      <td>2013.500</td>\n",
              "      <td>6.5</td>\n",
              "      <td>90.45606</td>\n",
              "      <td>9</td>\n",
              "      <td>24.97433</td>\n",
              "      <td>121.54310</td>\n",
              "      <td>63.9</td>\n",
              "    </tr>\n",
              "  </tbody>\n",
              "</table>\n",
              "</div>"
            ],
            "text/plain": [
              "      No  X1 transaction date  ...  X6 longitude  Y house price of unit area\n",
              "409  410             2013.000  ...     121.50381                        15.4\n",
              "410  411             2012.667  ...     121.54310                        50.0\n",
              "411  412             2013.250  ...     121.53986                        40.6\n",
              "412  413             2013.000  ...     121.54067                        52.5\n",
              "413  414             2013.500  ...     121.54310                        63.9\n",
              "\n",
              "[5 rows x 8 columns]"
            ]
          },
          "metadata": {
            "tags": []
          },
          "execution_count": 241
        }
      ]
    },
    {
      "cell_type": "markdown",
      "metadata": {
        "id": "O2qKAmnSlZ9m"
      },
      "source": [
        "# 3) Understand the dataset\n"
      ]
    },
    {
      "cell_type": "code",
      "metadata": {
        "colab": {
          "base_uri": "https://localhost:8080/"
        },
        "id": "D05uPiH4le6W",
        "outputId": "b008cdd7-43e1-4ea5-e0d1-ba0e750d4dc8"
      },
      "source": [
        "print(\"Shape of the data set is: \", real_estate_df.shape)"
      ],
      "execution_count": null,
      "outputs": [
        {
          "output_type": "stream",
          "text": [
            "Shape of the data set is:  (414, 8)\n"
          ],
          "name": "stdout"
        }
      ]
    },
    {
      "cell_type": "code",
      "metadata": {
        "colab": {
          "base_uri": "https://localhost:8080/"
        },
        "id": "Pen2AxLtlgiL",
        "outputId": "c10f752c-5094-48ec-f10e-ed10c996ee45"
      },
      "source": [
        "real_estate_df.info()"
      ],
      "execution_count": null,
      "outputs": [
        {
          "output_type": "stream",
          "text": [
            "<class 'pandas.core.frame.DataFrame'>\n",
            "RangeIndex: 414 entries, 0 to 413\n",
            "Data columns (total 8 columns):\n",
            " #   Column                                  Non-Null Count  Dtype  \n",
            "---  ------                                  --------------  -----  \n",
            " 0   No                                      414 non-null    int64  \n",
            " 1   X1 transaction date                     414 non-null    float64\n",
            " 2   X2 house age                            414 non-null    float64\n",
            " 3   X3 distance to the nearest MRT station  414 non-null    float64\n",
            " 4   X4 number of convenience stores         414 non-null    int64  \n",
            " 5   X5 latitude                             414 non-null    float64\n",
            " 6   X6 longitude                            414 non-null    float64\n",
            " 7   Y house price of unit area              414 non-null    float64\n",
            "dtypes: float64(6), int64(2)\n",
            "memory usage: 26.0 KB\n"
          ],
          "name": "stdout"
        }
      ]
    },
    {
      "cell_type": "markdown",
      "metadata": {
        "id": "KvO2pSYhoRul"
      },
      "source": [
        "# 4) Define the predictor features and response "
      ]
    },
    {
      "cell_type": "code",
      "metadata": {
        "colab": {
          "base_uri": "https://localhost:8080/",
          "height": 221
        },
        "id": "D8Izy2nIoeEV",
        "outputId": "92fc19e8-fcf0-4bc0-86d9-d6de877e8fe2"
      },
      "source": [
        "real_estate_df = real_estate_df.drop(columns=['No'])\n",
        "real_estate_df.tail(5)"
      ],
      "execution_count": null,
      "outputs": [
        {
          "output_type": "execute_result",
          "data": {
            "text/html": [
              "<div>\n",
              "<style scoped>\n",
              "    .dataframe tbody tr th:only-of-type {\n",
              "        vertical-align: middle;\n",
              "    }\n",
              "\n",
              "    .dataframe tbody tr th {\n",
              "        vertical-align: top;\n",
              "    }\n",
              "\n",
              "    .dataframe thead th {\n",
              "        text-align: right;\n",
              "    }\n",
              "</style>\n",
              "<table border=\"1\" class=\"dataframe\">\n",
              "  <thead>\n",
              "    <tr style=\"text-align: right;\">\n",
              "      <th></th>\n",
              "      <th>X1 transaction date</th>\n",
              "      <th>X2 house age</th>\n",
              "      <th>X3 distance to the nearest MRT station</th>\n",
              "      <th>X4 number of convenience stores</th>\n",
              "      <th>X5 latitude</th>\n",
              "      <th>X6 longitude</th>\n",
              "      <th>Y house price of unit area</th>\n",
              "    </tr>\n",
              "  </thead>\n",
              "  <tbody>\n",
              "    <tr>\n",
              "      <th>409</th>\n",
              "      <td>2013.000</td>\n",
              "      <td>13.7</td>\n",
              "      <td>4082.01500</td>\n",
              "      <td>0</td>\n",
              "      <td>24.94155</td>\n",
              "      <td>121.50381</td>\n",
              "      <td>15.4</td>\n",
              "    </tr>\n",
              "    <tr>\n",
              "      <th>410</th>\n",
              "      <td>2012.667</td>\n",
              "      <td>5.6</td>\n",
              "      <td>90.45606</td>\n",
              "      <td>9</td>\n",
              "      <td>24.97433</td>\n",
              "      <td>121.54310</td>\n",
              "      <td>50.0</td>\n",
              "    </tr>\n",
              "    <tr>\n",
              "      <th>411</th>\n",
              "      <td>2013.250</td>\n",
              "      <td>18.8</td>\n",
              "      <td>390.96960</td>\n",
              "      <td>7</td>\n",
              "      <td>24.97923</td>\n",
              "      <td>121.53986</td>\n",
              "      <td>40.6</td>\n",
              "    </tr>\n",
              "    <tr>\n",
              "      <th>412</th>\n",
              "      <td>2013.000</td>\n",
              "      <td>8.1</td>\n",
              "      <td>104.81010</td>\n",
              "      <td>5</td>\n",
              "      <td>24.96674</td>\n",
              "      <td>121.54067</td>\n",
              "      <td>52.5</td>\n",
              "    </tr>\n",
              "    <tr>\n",
              "      <th>413</th>\n",
              "      <td>2013.500</td>\n",
              "      <td>6.5</td>\n",
              "      <td>90.45606</td>\n",
              "      <td>9</td>\n",
              "      <td>24.97433</td>\n",
              "      <td>121.54310</td>\n",
              "      <td>63.9</td>\n",
              "    </tr>\n",
              "  </tbody>\n",
              "</table>\n",
              "</div>"
            ],
            "text/plain": [
              "     X1 transaction date  ...  Y house price of unit area\n",
              "409             2013.000  ...                        15.4\n",
              "410             2012.667  ...                        50.0\n",
              "411             2013.250  ...                        40.6\n",
              "412             2013.000  ...                        52.5\n",
              "413             2013.500  ...                        63.9\n",
              "\n",
              "[5 rows x 7 columns]"
            ]
          },
          "metadata": {
            "tags": []
          },
          "execution_count": 244
        }
      ]
    },
    {
      "cell_type": "code",
      "metadata": {
        "id": "Dk8Adz-9oQ7V"
      },
      "source": [
        "Y= real_estate_df.pop(\"Y house price of unit area\")\n"
      ],
      "execution_count": null,
      "outputs": []
    },
    {
      "cell_type": "code",
      "metadata": {
        "colab": {
          "base_uri": "https://localhost:8080/",
          "height": 204
        },
        "id": "ZjJXk3Q3CTf7",
        "outputId": "402284ee-6ae2-4c00-ac79-f7f206b4ed5e"
      },
      "source": [
        "real_estate_df.tail(5)"
      ],
      "execution_count": null,
      "outputs": [
        {
          "output_type": "execute_result",
          "data": {
            "text/html": [
              "<div>\n",
              "<style scoped>\n",
              "    .dataframe tbody tr th:only-of-type {\n",
              "        vertical-align: middle;\n",
              "    }\n",
              "\n",
              "    .dataframe tbody tr th {\n",
              "        vertical-align: top;\n",
              "    }\n",
              "\n",
              "    .dataframe thead th {\n",
              "        text-align: right;\n",
              "    }\n",
              "</style>\n",
              "<table border=\"1\" class=\"dataframe\">\n",
              "  <thead>\n",
              "    <tr style=\"text-align: right;\">\n",
              "      <th></th>\n",
              "      <th>X1 transaction date</th>\n",
              "      <th>X2 house age</th>\n",
              "      <th>X3 distance to the nearest MRT station</th>\n",
              "      <th>X4 number of convenience stores</th>\n",
              "      <th>X5 latitude</th>\n",
              "      <th>X6 longitude</th>\n",
              "    </tr>\n",
              "  </thead>\n",
              "  <tbody>\n",
              "    <tr>\n",
              "      <th>409</th>\n",
              "      <td>2013.000</td>\n",
              "      <td>13.7</td>\n",
              "      <td>4082.01500</td>\n",
              "      <td>0</td>\n",
              "      <td>24.94155</td>\n",
              "      <td>121.50381</td>\n",
              "    </tr>\n",
              "    <tr>\n",
              "      <th>410</th>\n",
              "      <td>2012.667</td>\n",
              "      <td>5.6</td>\n",
              "      <td>90.45606</td>\n",
              "      <td>9</td>\n",
              "      <td>24.97433</td>\n",
              "      <td>121.54310</td>\n",
              "    </tr>\n",
              "    <tr>\n",
              "      <th>411</th>\n",
              "      <td>2013.250</td>\n",
              "      <td>18.8</td>\n",
              "      <td>390.96960</td>\n",
              "      <td>7</td>\n",
              "      <td>24.97923</td>\n",
              "      <td>121.53986</td>\n",
              "    </tr>\n",
              "    <tr>\n",
              "      <th>412</th>\n",
              "      <td>2013.000</td>\n",
              "      <td>8.1</td>\n",
              "      <td>104.81010</td>\n",
              "      <td>5</td>\n",
              "      <td>24.96674</td>\n",
              "      <td>121.54067</td>\n",
              "    </tr>\n",
              "    <tr>\n",
              "      <th>413</th>\n",
              "      <td>2013.500</td>\n",
              "      <td>6.5</td>\n",
              "      <td>90.45606</td>\n",
              "      <td>9</td>\n",
              "      <td>24.97433</td>\n",
              "      <td>121.54310</td>\n",
              "    </tr>\n",
              "  </tbody>\n",
              "</table>\n",
              "</div>"
            ],
            "text/plain": [
              "     X1 transaction date  X2 house age  ...  X5 latitude  X6 longitude\n",
              "409             2013.000          13.7  ...     24.94155     121.50381\n",
              "410             2012.667           5.6  ...     24.97433     121.54310\n",
              "411             2013.250          18.8  ...     24.97923     121.53986\n",
              "412             2013.000           8.1  ...     24.96674     121.54067\n",
              "413             2013.500           6.5  ...     24.97433     121.54310\n",
              "\n",
              "[5 rows x 6 columns]"
            ]
          },
          "metadata": {
            "tags": []
          },
          "execution_count": 246
        }
      ]
    },
    {
      "cell_type": "code",
      "metadata": {
        "colab": {
          "base_uri": "https://localhost:8080/",
          "height": 204
        },
        "id": "4TuhNeBty-JO",
        "outputId": "1d1bca0a-80b2-4527-ca92-f38de846cb48"
      },
      "source": [
        "from sklearn.preprocessing import StandardScaler\n",
        "sc = StandardScaler()\n",
        "X_np = sc.fit_transform(real_estate_df)\n",
        "X = pd.DataFrame(X_np, columns=['X1 transaction date','X2 house age',\t'X3 distance to the nearest MRT station','X4 number of convenience stores',\t'X5 latitude'\t,'X6 longitude'])\n",
        "X.tail()"
      ],
      "execution_count": null,
      "outputs": [
        {
          "output_type": "execute_result",
          "data": {
            "text/html": [
              "<div>\n",
              "<style scoped>\n",
              "    .dataframe tbody tr th:only-of-type {\n",
              "        vertical-align: middle;\n",
              "    }\n",
              "\n",
              "    .dataframe tbody tr th {\n",
              "        vertical-align: top;\n",
              "    }\n",
              "\n",
              "    .dataframe thead th {\n",
              "        text-align: right;\n",
              "    }\n",
              "</style>\n",
              "<table border=\"1\" class=\"dataframe\">\n",
              "  <thead>\n",
              "    <tr style=\"text-align: right;\">\n",
              "      <th></th>\n",
              "      <th>X1 transaction date</th>\n",
              "      <th>X2 house age</th>\n",
              "      <th>X3 distance to the nearest MRT station</th>\n",
              "      <th>X4 number of convenience stores</th>\n",
              "      <th>X5 latitude</th>\n",
              "      <th>X6 longitude</th>\n",
              "    </tr>\n",
              "  </thead>\n",
              "  <tbody>\n",
              "    <tr>\n",
              "      <th>409</th>\n",
              "      <td>-0.528967</td>\n",
              "      <td>-0.352637</td>\n",
              "      <td>2.378365</td>\n",
              "      <td>-1.391638</td>\n",
              "      <td>-2.216993</td>\n",
              "      <td>-1.927835</td>\n",
              "    </tr>\n",
              "    <tr>\n",
              "      <th>410</th>\n",
              "      <td>-1.711384</td>\n",
              "      <td>-1.064493</td>\n",
              "      <td>-0.788071</td>\n",
              "      <td>1.667503</td>\n",
              "      <td>0.427579</td>\n",
              "      <td>0.635341</td>\n",
              "    </tr>\n",
              "    <tr>\n",
              "      <th>411</th>\n",
              "      <td>0.358734</td>\n",
              "      <td>0.095568</td>\n",
              "      <td>-0.549678</td>\n",
              "      <td>0.987694</td>\n",
              "      <td>0.822893</td>\n",
              "      <td>0.423972</td>\n",
              "    </tr>\n",
              "    <tr>\n",
              "      <th>412</th>\n",
              "      <td>-0.528967</td>\n",
              "      <td>-0.844784</td>\n",
              "      <td>-0.776684</td>\n",
              "      <td>0.307885</td>\n",
              "      <td>-0.184755</td>\n",
              "      <td>0.476814</td>\n",
              "    </tr>\n",
              "    <tr>\n",
              "      <th>413</th>\n",
              "      <td>1.246435</td>\n",
              "      <td>-0.985398</td>\n",
              "      <td>-0.788071</td>\n",
              "      <td>1.667503</td>\n",
              "      <td>0.427579</td>\n",
              "      <td>0.635341</td>\n",
              "    </tr>\n",
              "  </tbody>\n",
              "</table>\n",
              "</div>"
            ],
            "text/plain": [
              "     X1 transaction date  X2 house age  ...  X5 latitude  X6 longitude\n",
              "409            -0.528967     -0.352637  ...    -2.216993     -1.927835\n",
              "410            -1.711384     -1.064493  ...     0.427579      0.635341\n",
              "411             0.358734      0.095568  ...     0.822893      0.423972\n",
              "412            -0.528967     -0.844784  ...    -0.184755      0.476814\n",
              "413             1.246435     -0.985398  ...     0.427579      0.635341\n",
              "\n",
              "[5 rows x 6 columns]"
            ]
          },
          "metadata": {
            "tags": []
          },
          "execution_count": 247
        }
      ]
    },
    {
      "cell_type": "markdown",
      "metadata": {
        "id": "f1nLfZYf2gxS"
      },
      "source": [
        "# 5) Define the predictor features and response "
      ]
    },
    {
      "cell_type": "code",
      "metadata": {
        "id": "z1E9fZ1Q2Ypr"
      },
      "source": [
        "from sklearn.model_selection import train_test_split"
      ],
      "execution_count": null,
      "outputs": []
    },
    {
      "cell_type": "code",
      "metadata": {
        "colab": {
          "base_uri": "https://localhost:8080/"
        },
        "id": "D-O-oqEv_97r",
        "outputId": "3effa0ad-d74f-4fec-9587-4f713b241134"
      },
      "source": [
        "X_tr, X_test, y_tr, y_test = train_test_split(X, Y, test_size=0.15, random_state=42)\n",
        "\n",
        "print(\"Full train data shape:\", X_tr.shape, \"Full train label shape:\", y_tr.shape, \"Test data shape:\", X_test.shape, \"Test label shape:\", y_test.shape)"
      ],
      "execution_count": null,
      "outputs": [
        {
          "output_type": "stream",
          "text": [
            "Full train data shape: (351, 6) Full train label shape: (351,) Test data shape: (63, 6) Test label shape: (63,)\n"
          ],
          "name": "stdout"
        }
      ]
    },
    {
      "cell_type": "code",
      "metadata": {
        "colab": {
          "base_uri": "https://localhost:8080/"
        },
        "id": "-wllCjNXCpyc",
        "outputId": "33aa6603-8098-456e-f6e7-b85e28f32599"
      },
      "source": [
        "X_train, X_valid, y_train, y_valid = train_test_split(X_tr, y_tr, test_size=0.15, random_state=42)\n",
        "print(\"Train data shape:\", X_train.shape, \"Train label shape:\", y_train.shape, \"Validation data shape:\", X_valid.shape, \"Validation label shape:\", y_valid.shape)"
      ],
      "execution_count": null,
      "outputs": [
        {
          "output_type": "stream",
          "text": [
            "Train data shape: (298, 6) Train label shape: (298,) Validation data shape: (53, 6) Validation label shape: (53,)\n"
          ],
          "name": "stdout"
        }
      ]
    },
    {
      "cell_type": "markdown",
      "metadata": {
        "id": "j1yG53gLJC5t"
      },
      "source": [
        "# 6) Training the model and hyperparameter tunning"
      ]
    },
    {
      "cell_type": "code",
      "metadata": {
        "id": "swlCA5r4L2HF"
      },
      "source": [
        "from sklearn.preprocessing import PolynomialFeatures\n",
        "from sklearn.pipeline import make_pipeline\n",
        "from sklearn.linear_model import LinearRegression\n",
        "from math import sqrt\n",
        "from sklearn.metrics import mean_absolute_error, mean_squared_error"
      ],
      "execution_count": null,
      "outputs": []
    },
    {
      "cell_type": "code",
      "metadata": {
        "colab": {
          "base_uri": "https://localhost:8080/"
        },
        "id": "jCT2EfkZJLUp",
        "outputId": "4e45742e-3bd7-48a5-892a-946b2080e7a0"
      },
      "source": [
        "pvalues=[1,2,3,4,5]\n",
        "train_mse=[]\n",
        "val_mse=[]\n",
        "train_time=[]\n",
        "pred_time=[]\n",
        "for p in pvalues:\n",
        "  poly_reg = PolynomialFeatures(degree=p)\n",
        "  X_poly_train = poly_reg.fit_transform(X_train)\n",
        "  lin_reg = LinearRegression()\n",
        "  start_time = time.time()\n",
        "  lin_reg.fit(X_poly_train, y_train)\n",
        "  train_time.append(time.time()-start_time)\n",
        "\n",
        "  start_time = time.time()\n",
        "  y_pred = lin_reg.predict(X_poly_train)\n",
        "  pred_time.append(time.time()-start_time)\n",
        "\n",
        "  m=mean_squared_error(y_train, y_pred)\n",
        "  print(\"The train mean squared error for p=\",p,\"is\",m )\n",
        "  train_mse.append(m)\n",
        "\n",
        "  X_poly_valid = poly_reg.transform(X_valid)\n",
        "  y_pred2 = lin_reg.predict(X_poly_valid)\n",
        "\n",
        "  v_mse = mean_squared_error(y_valid, y_pred2)\n",
        "  print(\"The validation mean squared error for p=\",p ,\"is\",v_mse )\n",
        "  val_mse.append(v_mse)\n",
        "\n",
        "  print(\"-----------------------------------------------\")\n",
        "\n",
        "\n",
        "\n",
        "print(pred_time)\n",
        "print(train_time)\n",
        "\n"
      ],
      "execution_count": null,
      "outputs": [
        {
          "output_type": "stream",
          "text": [
            "The train mean squared error for p= 1 is 85.41822207633554\n",
            "The validation mean squared error for p= 1 is 53.64129753943406\n",
            "-----------------------------------------------\n",
            "The train mean squared error for p= 2 is 57.012942794551805\n",
            "The validation mean squared error for p= 2 is 54.48243563365311\n",
            "-----------------------------------------------\n",
            "The train mean squared error for p= 3 is 42.34810514192914\n",
            "The validation mean squared error for p= 3 is 46.050846489475504\n",
            "-----------------------------------------------\n",
            "The train mean squared error for p= 4 is 19.61126690598942\n",
            "The validation mean squared error for p= 4 is 2876.3278698491144\n",
            "-----------------------------------------------\n",
            "The train mean squared error for p= 5 is 0.028070469798657762\n",
            "The validation mean squared error for p= 5 is 1574066.4430199887\n",
            "-----------------------------------------------\n",
            "[0.00012373924255371094, 0.00014662742614746094, 0.00448155403137207, 0.0010476112365722656, 0.0011832714080810547]\n",
            "[0.0007634162902832031, 0.0010466575622558594, 0.005466938018798828, 0.02916574478149414, 0.07255911827087402]\n"
          ],
          "name": "stdout"
        }
      ]
    },
    {
      "cell_type": "code",
      "metadata": {
        "colab": {
          "base_uri": "https://localhost:8080/",
          "height": 618
        },
        "id": "aBMqRP8KN1Ws",
        "outputId": "9574b258-7727-4b59-929e-eeb350bcc92e"
      },
      "source": [
        "plt.figure(figsize=(6,4))\n",
        "plt.scatter(pvalues, train_mse)\n",
        "plt.ylabel(\"Train Mean Squared Error\")\n",
        "plt.xlabel(\"p values\")\n",
        "plt.title(\"Train mean squared error vs p\")\n",
        "plt.plot(pvalues, train_mse, 'red')\n",
        "\n",
        "plt.figure(figsize=(6,4))\n",
        "plt.scatter(pvalues, val_mse)\n",
        "plt.ylabel(\"Validation Mean Squared Error\")\n",
        "plt.xlabel(\"p values\")\n",
        "plt.title(\"Validation mean squared error vs p\")\n",
        "plt.plot(pvalues, val_mse, 'red')\n",
        "\n"
      ],
      "execution_count": null,
      "outputs": [
        {
          "output_type": "execute_result",
          "data": {
            "text/plain": [
              "[<matplotlib.lines.Line2D at 0x7fa36f1a92d0>]"
            ]
          },
          "metadata": {
            "tags": []
          },
          "execution_count": 253
        },
        {
          "output_type": "display_data",
          "data": {
            "image/png": "[encoded data removed]",
            "text/plain": [
              "<Figure size 432x288 with 1 Axes>"
            ]
          },
          "metadata": {
            "tags": []
          }
        },
        {
          "output_type": "display_data",
          "data": {
            "image/png": "[encoded data removed]",
            "text/plain": [
              "<Figure size 432x288 with 1 Axes>"
            ]
          },
          "metadata": {
            "tags": []
          }
        }
      ]
    },
    {
      "cell_type": "code",
      "metadata": {
        "colab": {
          "base_uri": "https://localhost:8080/"
        },
        "id": "HJcRF3Y_OOYc",
        "outputId": "75623376-554d-4f94-ba46-0807881cc8ec"
      },
      "source": [
        "min_val_error= min(val_mse)\n",
        "min_at_index= val_mse.index(min_val_error)\n",
        "min_p = min_at_index+1\n",
        "\n",
        "print(\"The minimum mean squared error for validation data is\",min_val_error,\"for p=\",min_p)\n"
      ],
      "execution_count": null,
      "outputs": [
        {
          "output_type": "stream",
          "text": [
            "The minimum mean squared error for validation data is 46.050846489475504 for p= 3\n"
          ],
          "name": "stdout"
        }
      ]
    },
    {
      "cell_type": "markdown",
      "metadata": {
        "id": "88RapM76b7Gx"
      },
      "source": [
        "# 7) Final model and Testing"
      ]
    },
    {
      "cell_type": "code",
      "metadata": {
        "colab": {
          "base_uri": "https://localhost:8080/"
        },
        "id": "1VlBc98-dSWM",
        "outputId": "9fd62920-cde2-4054-fadd-ec5987615d56"
      },
      "source": [
        "poly_reg_3 = PolynomialFeatures(degree=3)\n",
        "X_poly_train = poly_reg_3.fit_transform(X_train)\n",
        "\n",
        "X_poly_train.shape"
      ],
      "execution_count": null,
      "outputs": [
        {
          "output_type": "execute_result",
          "data": {
            "text/plain": [
              "(298, 84)"
            ]
          },
          "metadata": {
            "tags": []
          },
          "execution_count": 255
        }
      ]
    },
    {
      "cell_type": "code",
      "metadata": {
        "colab": {
          "base_uri": "https://localhost:8080/"
        },
        "id": "_rUpMwGWb6aG",
        "outputId": "ebc6f9ca-ac9d-43a9-9854-9abc1826c721"
      },
      "source": [
        "lin_reg_3 = LinearRegression()\n",
        "lin_reg_3.fit(X_poly_train, y_train)"
      ],
      "execution_count": null,
      "outputs": [
        {
          "output_type": "execute_result",
          "data": {
            "text/plain": [
              "LinearRegression(copy_X=True, fit_intercept=True, n_jobs=None, normalize=False)"
            ]
          },
          "metadata": {
            "tags": []
          },
          "execution_count": 256
        }
      ]
    },
    {
      "cell_type": "code",
      "metadata": {
        "colab": {
          "base_uri": "https://localhost:8080/"
        },
        "id": "DKfq9H6KBEGn",
        "outputId": "ec1145cb-f0b0-49ff-954f-bfcadd914723"
      },
      "source": [
        "y_pred = lin_reg_3.predict(X_poly_train)\n",
        "\n",
        "print('Bias:', lin_reg_3.intercept_)\n",
        "print(\"Train Mean squared error: %.2f\"\n",
        "      % mean_squared_error(y_train, y_pred))"
      ],
      "execution_count": null,
      "outputs": [
        {
          "output_type": "stream",
          "text": [
            "Bias: 29.52457324208673\n",
            "Train Mean squared error: 42.35\n"
          ],
          "name": "stdout"
        }
      ]
    },
    {
      "cell_type": "code",
      "metadata": {
        "colab": {
          "base_uri": "https://localhost:8080/"
        },
        "id": "NyWJiOUrBRLa",
        "outputId": "8086a151-4b9b-475a-da9f-75a4026ec4c0"
      },
      "source": [
        "X_poly_valid = poly_reg_3.transform(X_valid)\n",
        "X_poly_valid.shape"
      ],
      "execution_count": null,
      "outputs": [
        {
          "output_type": "execute_result",
          "data": {
            "text/plain": [
              "(53, 84)"
            ]
          },
          "metadata": {
            "tags": []
          },
          "execution_count": 258
        }
      ]
    },
    {
      "cell_type": "code",
      "metadata": {
        "colab": {
          "base_uri": "https://localhost:8080/"
        },
        "id": "VmYfqeDMBUZA",
        "outputId": "f9fd64b1-ae68-4597-a26e-92a154750017"
      },
      "source": [
        "y_pred = lin_reg_3.predict(X_poly_valid)\n",
        "\n",
        "lr3_mse = mean_squared_error(y_valid, y_pred)\n",
        "\n",
        "print(\"Valid Mean squared error: %.2f\"\n",
        "      % lr3_mse)"
      ],
      "execution_count": null,
      "outputs": [
        {
          "output_type": "stream",
          "text": [
            "Valid Mean squared error: 46.05\n"
          ],
          "name": "stdout"
        }
      ]
    },
    {
      "cell_type": "code",
      "metadata": {
        "colab": {
          "base_uri": "https://localhost:8080/",
          "height": 289
        },
        "id": "4yV_KCgUBkOX",
        "outputId": "cf3569e8-d811-4e4b-d80c-21a053a8a279"
      },
      "source": [
        "xaxis = np.arange(y_valid.shape[0])\n",
        "plt.scatter(xaxis,y_valid)\n",
        "plt.plot(xaxis,y_pred, 'r')"
      ],
      "execution_count": null,
      "outputs": [
        {
          "output_type": "execute_result",
          "data": {
            "text/plain": [
              "[<matplotlib.lines.Line2D at 0x7fa373b7be50>]"
            ]
          },
          "metadata": {
            "tags": []
          },
          "execution_count": 260
        },
        {
          "output_type": "display_data",
          "data": {
            "image/png": "[encoded data removed]",
            "text/plain": [
              "<Figure size 432x288 with 1 Axes>"
            ]
          },
          "metadata": {
            "tags": []
          }
        }
      ]
    },
    {
      "cell_type": "code",
      "metadata": {
        "colab": {
          "base_uri": "https://localhost:8080/"
        },
        "id": "ZkbuyPv-Buad",
        "outputId": "67831440-19f7-415e-819e-c89d4928f16c"
      },
      "source": [
        "X_poly_test = poly_reg_3.transform(X_test)\n",
        "X_poly_test.shape"
      ],
      "execution_count": null,
      "outputs": [
        {
          "output_type": "execute_result",
          "data": {
            "text/plain": [
              "(63, 84)"
            ]
          },
          "metadata": {
            "tags": []
          },
          "execution_count": 261
        }
      ]
    },
    {
      "cell_type": "code",
      "metadata": {
        "colab": {
          "base_uri": "https://localhost:8080/"
        },
        "id": "n_GWSvHgBy7-",
        "outputId": "b67f0570-dc68-4aa5-aa7f-03c2dd6d56f1"
      },
      "source": [
        "y_pred = lin_reg_3.predict(X_poly_test)\n",
        "\n",
        "print(\"Test Mean squared error: %.2f\"\n",
        "      % mean_squared_error(y_test, y_pred))"
      ],
      "execution_count": null,
      "outputs": [
        {
          "output_type": "stream",
          "text": [
            "Test Mean squared error: 52.89\n"
          ],
          "name": "stdout"
        }
      ]
    },
    {
      "cell_type": "code",
      "metadata": {
        "colab": {
          "base_uri": "https://localhost:8080/",
          "height": 289
        },
        "id": "xBjasqCKB3VH",
        "outputId": "2c5d22d3-5d64-432c-de9c-10e357eb5db3"
      },
      "source": [
        "xaxis = np.arange(y_test.shape[0])\n",
        "plt.scatter(xaxis,y_test)\n",
        "plt.plot(xaxis,y_pred, 'r')"
      ],
      "execution_count": null,
      "outputs": [
        {
          "output_type": "execute_result",
          "data": {
            "text/plain": [
              "[<matplotlib.lines.Line2D at 0x7fa36ece0b10>]"
            ]
          },
          "metadata": {
            "tags": []
          },
          "execution_count": 263
        },
        {
          "output_type": "display_data",
          "data": {
            "image/png": "[encoded data removed]",
            "text/plain": [
              "<Figure size 432x288 with 1 Axes>"
            ]
          },
          "metadata": {
            "tags": []
          }
        }
      ]
    },
    {
      "cell_type": "markdown",
      "metadata": {
        "id": "VjZG00iMIExd"
      },
      "source": [
        "covariance matrix of the dataset"
      ]
    },
    {
      "cell_type": "code",
      "metadata": {
        "colab": {
          "base_uri": "https://localhost:8080/",
          "height": 317
        },
        "id": "Lh8QIg-f_goZ",
        "outputId": "bb68f3d8-25b6-45c5-c04f-a8623a6ff2b1"
      },
      "source": [
        "real_estate_df = pd.read_csv('/content/drive/MyDrive/Real estate.csv')\n",
        "real_estate_df.pop('No')\n",
        "x= pd.DataFrame.cov(real_estate_df)\n",
        "x"
      ],
      "execution_count": null,
      "outputs": [
        {
          "output_type": "execute_result",
          "data": {
            "text/html": [
              "<div>\n",
              "<style scoped>\n",
              "    .dataframe tbody tr th:only-of-type {\n",
              "        vertical-align: middle;\n",
              "    }\n",
              "\n",
              "    .dataframe tbody tr th {\n",
              "        vertical-align: top;\n",
              "    }\n",
              "\n",
              "    .dataframe thead th {\n",
              "        text-align: right;\n",
              "    }\n",
              "</style>\n",
              "<table border=\"1\" class=\"dataframe\">\n",
              "  <thead>\n",
              "    <tr style=\"text-align: right;\">\n",
              "      <th></th>\n",
              "      <th>X1 transaction date</th>\n",
              "      <th>X2 house age</th>\n",
              "      <th>X3 distance to the nearest MRT station</th>\n",
              "      <th>X4 number of convenience stores</th>\n",
              "      <th>X5 latitude</th>\n",
              "      <th>X6 longitude</th>\n",
              "      <th>Y house price of unit area</th>\n",
              "    </tr>\n",
              "  </thead>\n",
              "  <tbody>\n",
              "    <tr>\n",
              "      <th>X1 transaction date</th>\n",
              "      <td>0.079506</td>\n",
              "      <td>0.056372</td>\n",
              "      <td>2.166557e+01</td>\n",
              "      <td>0.008003</td>\n",
              "      <td>0.000123</td>\n",
              "      <td>-0.000178</td>\n",
              "      <td>0.335665</td>\n",
              "    </tr>\n",
              "    <tr>\n",
              "      <th>X2 house age</th>\n",
              "      <td>0.056372</td>\n",
              "      <td>129.788704</td>\n",
              "      <td>3.684082e+02</td>\n",
              "      <td>1.664189</td>\n",
              "      <td>0.007694</td>\n",
              "      <td>-0.008483</td>\n",
              "      <td>-32.640356</td>\n",
              "    </tr>\n",
              "    <tr>\n",
              "      <th>X3 distance to the nearest MRT station</th>\n",
              "      <td>21.665566</td>\n",
              "      <td>368.408249</td>\n",
              "      <td>1.592921e+06</td>\n",
              "      <td>-2239.938319</td>\n",
              "      <td>-9.257892</td>\n",
              "      <td>-15.618216</td>\n",
              "      <td>-11567.871845</td>\n",
              "    </tr>\n",
              "    <tr>\n",
              "      <th>X4 number of convenience stores</th>\n",
              "      <td>0.008003</td>\n",
              "      <td>1.664189</td>\n",
              "      <td>-2.239938e+03</td>\n",
              "      <td>8.676334</td>\n",
              "      <td>0.016236</td>\n",
              "      <td>0.020302</td>\n",
              "      <td>22.885163</td>\n",
              "    </tr>\n",
              "    <tr>\n",
              "      <th>X5 latitude</th>\n",
              "      <td>0.000123</td>\n",
              "      <td>0.007694</td>\n",
              "      <td>-9.257892e+00</td>\n",
              "      <td>0.016236</td>\n",
              "      <td>0.000154</td>\n",
              "      <td>0.000079</td>\n",
              "      <td>0.092249</td>\n",
              "    </tr>\n",
              "    <tr>\n",
              "      <th>X6 longitude</th>\n",
              "      <td>-0.000178</td>\n",
              "      <td>-0.008483</td>\n",
              "      <td>-1.561822e+01</td>\n",
              "      <td>0.020302</td>\n",
              "      <td>0.000079</td>\n",
              "      <td>0.000236</td>\n",
              "      <td>0.109273</td>\n",
              "    </tr>\n",
              "    <tr>\n",
              "      <th>Y house price of unit area</th>\n",
              "      <td>0.335665</td>\n",
              "      <td>-32.640356</td>\n",
              "      <td>-1.156787e+04</td>\n",
              "      <td>22.885163</td>\n",
              "      <td>0.092249</td>\n",
              "      <td>0.109273</td>\n",
              "      <td>185.136507</td>\n",
              "    </tr>\n",
              "  </tbody>\n",
              "</table>\n",
              "</div>"
            ],
            "text/plain": [
              "                                        X1 transaction date  ...  Y house price of unit area\n",
              "X1 transaction date                                0.079506  ...                    0.335665\n",
              "X2 house age                                       0.056372  ...                  -32.640356\n",
              "X3 distance to the nearest MRT station            21.665566  ...               -11567.871845\n",
              "X4 number of convenience stores                    0.008003  ...                   22.885163\n",
              "X5 latitude                                        0.000123  ...                    0.092249\n",
              "X6 longitude                                      -0.000178  ...                    0.109273\n",
              "Y house price of unit area                         0.335665  ...                  185.136507\n",
              "\n",
              "[7 rows x 7 columns]"
            ]
          },
          "metadata": {
            "tags": []
          },
          "execution_count": 264
        }
      ]
    },
    {
      "cell_type": "code",
      "metadata": {
        "colab": {
          "base_uri": "https://localhost:8080/",
          "height": 221
        },
        "id": "w-lOivgCIEeJ",
        "outputId": "e73fec11-ac55-4055-d1f1-1e977dbf7c60"
      },
      "source": [
        "real_estate_df = pd.read_csv('/content/drive/MyDrive/Real estate.csv')\n",
        "real_estate_df.head()"
      ],
      "execution_count": null,
      "outputs": [
        {
          "output_type": "execute_result",
          "data": {
            "text/html": [
              "<div>\n",
              "<style scoped>\n",
              "    .dataframe tbody tr th:only-of-type {\n",
              "        vertical-align: middle;\n",
              "    }\n",
              "\n",
              "    .dataframe tbody tr th {\n",
              "        vertical-align: top;\n",
              "    }\n",
              "\n",
              "    .dataframe thead th {\n",
              "        text-align: right;\n",
              "    }\n",
              "</style>\n",
              "<table border=\"1\" class=\"dataframe\">\n",
              "  <thead>\n",
              "    <tr style=\"text-align: right;\">\n",
              "      <th></th>\n",
              "      <th>No</th>\n",
              "      <th>X1 transaction date</th>\n",
              "      <th>X2 house age</th>\n",
              "      <th>X3 distance to the nearest MRT station</th>\n",
              "      <th>X4 number of convenience stores</th>\n",
              "      <th>X5 latitude</th>\n",
              "      <th>X6 longitude</th>\n",
              "      <th>Y house price of unit area</th>\n",
              "    </tr>\n",
              "  </thead>\n",
              "  <tbody>\n",
              "    <tr>\n",
              "      <th>0</th>\n",
              "      <td>1</td>\n",
              "      <td>2012.917</td>\n",
              "      <td>32.0</td>\n",
              "      <td>84.87882</td>\n",
              "      <td>10</td>\n",
              "      <td>24.98298</td>\n",
              "      <td>121.54024</td>\n",
              "      <td>37.9</td>\n",
              "    </tr>\n",
              "    <tr>\n",
              "      <th>1</th>\n",
              "      <td>2</td>\n",
              "      <td>2012.917</td>\n",
              "      <td>19.5</td>\n",
              "      <td>306.59470</td>\n",
              "      <td>9</td>\n",
              "      <td>24.98034</td>\n",
              "      <td>121.53951</td>\n",
              "      <td>42.2</td>\n",
              "    </tr>\n",
              "    <tr>\n",
              "      <th>2</th>\n",
              "      <td>3</td>\n",
              "      <td>2013.583</td>\n",
              "      <td>13.3</td>\n",
              "      <td>561.98450</td>\n",
              "      <td>5</td>\n",
              "      <td>24.98746</td>\n",
              "      <td>121.54391</td>\n",
              "      <td>47.3</td>\n",
              "    </tr>\n",
              "    <tr>\n",
              "      <th>3</th>\n",
              "      <td>4</td>\n",
              "      <td>2013.500</td>\n",
              "      <td>13.3</td>\n",
              "      <td>561.98450</td>\n",
              "      <td>5</td>\n",
              "      <td>24.98746</td>\n",
              "      <td>121.54391</td>\n",
              "      <td>54.8</td>\n",
              "    </tr>\n",
              "    <tr>\n",
              "      <th>4</th>\n",
              "      <td>5</td>\n",
              "      <td>2012.833</td>\n",
              "      <td>5.0</td>\n",
              "      <td>390.56840</td>\n",
              "      <td>5</td>\n",
              "      <td>24.97937</td>\n",
              "      <td>121.54245</td>\n",
              "      <td>43.1</td>\n",
              "    </tr>\n",
              "  </tbody>\n",
              "</table>\n",
              "</div>"
            ],
            "text/plain": [
              "   No  X1 transaction date  ...  X6 longitude  Y house price of unit area\n",
              "0   1             2012.917  ...     121.54024                        37.9\n",
              "1   2             2012.917  ...     121.53951                        42.2\n",
              "2   3             2013.583  ...     121.54391                        47.3\n",
              "3   4             2013.500  ...     121.54391                        54.8\n",
              "4   5             2012.833  ...     121.54245                        43.1\n",
              "\n",
              "[5 rows x 8 columns]"
            ]
          },
          "metadata": {
            "tags": []
          },
          "execution_count": 265
        }
      ]
    },
    {
      "cell_type": "markdown",
      "metadata": {
        "id": "zi0WawuBuWV8"
      },
      "source": [
        "### Covariance Matrix Showing Correlation Coefficients between Features"
      ]
    },
    {
      "cell_type": "code",
      "metadata": {
        "colab": {
          "base_uri": "https://localhost:8080/",
          "height": 726
        },
        "id": "3IIE21MA3ai-",
        "outputId": "06531475-17da-4a09-a350-7233151e462b"
      },
      "source": [
        "cols = np.array(real_estate_df.drop(columns=['No']).columns)\n",
        "\n",
        "from sklearn.preprocessing import StandardScaler\n",
        "sc= StandardScaler()\n",
        "X_sc = sc.fit_transform(real_estate_df[cols].iloc[:,range(0,7)].values)\n",
        "\n",
        "cov_mat=np.cov(X_sc.T)\n",
        "plt.tight_layout()\n",
        "plt.figure(figsize=(8,8))\n",
        "sns.set(font_scale=1.25)\n",
        "heatmap= sns.heatmap(cov_mat, \n",
        "                     annot= True, \n",
        "                     square=True, \n",
        "                     fmt='.2f',\n",
        "                     annot_kws={'size':8},\n",
        "                     cmap ='Blues',\n",
        "                     yticklabels =cols,\n",
        "                     xticklabels=cols)\n",
        "plt.show()\n"
      ],
      "execution_count": null,
      "outputs": [
        {
          "output_type": "display_data",
          "data": {
            "text/plain": [
              "<Figure size 432x288 with 0 Axes>"
            ]
          },
          "metadata": {
            "tags": []
          }
        },
        {
          "output_type": "display_data",
          "data": {
            "image/png": "[encoded data removed]",
            "text/plain": [
              "<Figure size 576x576 with 2 Axes>"
            ]
          },
          "metadata": {
            "tags": []
          }
        }
      ]
    },
    {
      "cell_type": "markdown",
      "metadata": {
        "id": "vmmxUgfUIIOY"
      },
      "source": [
        " discard d\n",
        "columns from the predictor features. Notice here that d is another hyperparameter.\n",
        "Use the optimal value of p you found in part a, and draw on a figure the mean\n",
        "squared training and validation error curves as a function of d for d = 0, 1, 2, 3.\n",
        "What is the optimal value of d? Which features are discarded? Justify your reasoning."
      ]
    },
    {
      "cell_type": "markdown",
      "metadata": {
        "id": "2OYxhNDTwVrv"
      },
      "source": [
        "### d=0\n",
        "\n",
        "Keeping all features"
      ]
    },
    {
      "cell_type": "code",
      "metadata": {
        "colab": {
          "base_uri": "https://localhost:8080/",
          "height": 221
        },
        "id": "xSVxMrzlwU8C",
        "outputId": "e71528b8-ebda-46d4-a6d4-e239eb78d4d2"
      },
      "source": [
        "real_estate_df = pd.read_csv('/content/drive/MyDrive/Real estate.csv')\n",
        "real_estate_df.pop('No')\n",
        "real_estate_df.head()"
      ],
      "execution_count": null,
      "outputs": [
        {
          "output_type": "execute_result",
          "data": {
            "text/html": [
              "<div>\n",
              "<style scoped>\n",
              "    .dataframe tbody tr th:only-of-type {\n",
              "        vertical-align: middle;\n",
              "    }\n",
              "\n",
              "    .dataframe tbody tr th {\n",
              "        vertical-align: top;\n",
              "    }\n",
              "\n",
              "    .dataframe thead th {\n",
              "        text-align: right;\n",
              "    }\n",
              "</style>\n",
              "<table border=\"1\" class=\"dataframe\">\n",
              "  <thead>\n",
              "    <tr style=\"text-align: right;\">\n",
              "      <th></th>\n",
              "      <th>X1 transaction date</th>\n",
              "      <th>X2 house age</th>\n",
              "      <th>X3 distance to the nearest MRT station</th>\n",
              "      <th>X4 number of convenience stores</th>\n",
              "      <th>X5 latitude</th>\n",
              "      <th>X6 longitude</th>\n",
              "      <th>Y house price of unit area</th>\n",
              "    </tr>\n",
              "  </thead>\n",
              "  <tbody>\n",
              "    <tr>\n",
              "      <th>0</th>\n",
              "      <td>2012.917</td>\n",
              "      <td>32.0</td>\n",
              "      <td>84.87882</td>\n",
              "      <td>10</td>\n",
              "      <td>24.98298</td>\n",
              "      <td>121.54024</td>\n",
              "      <td>37.9</td>\n",
              "    </tr>\n",
              "    <tr>\n",
              "      <th>1</th>\n",
              "      <td>2012.917</td>\n",
              "      <td>19.5</td>\n",
              "      <td>306.59470</td>\n",
              "      <td>9</td>\n",
              "      <td>24.98034</td>\n",
              "      <td>121.53951</td>\n",
              "      <td>42.2</td>\n",
              "    </tr>\n",
              "    <tr>\n",
              "      <th>2</th>\n",
              "      <td>2013.583</td>\n",
              "      <td>13.3</td>\n",
              "      <td>561.98450</td>\n",
              "      <td>5</td>\n",
              "      <td>24.98746</td>\n",
              "      <td>121.54391</td>\n",
              "      <td>47.3</td>\n",
              "    </tr>\n",
              "    <tr>\n",
              "      <th>3</th>\n",
              "      <td>2013.500</td>\n",
              "      <td>13.3</td>\n",
              "      <td>561.98450</td>\n",
              "      <td>5</td>\n",
              "      <td>24.98746</td>\n",
              "      <td>121.54391</td>\n",
              "      <td>54.8</td>\n",
              "    </tr>\n",
              "    <tr>\n",
              "      <th>4</th>\n",
              "      <td>2012.833</td>\n",
              "      <td>5.0</td>\n",
              "      <td>390.56840</td>\n",
              "      <td>5</td>\n",
              "      <td>24.97937</td>\n",
              "      <td>121.54245</td>\n",
              "      <td>43.1</td>\n",
              "    </tr>\n",
              "  </tbody>\n",
              "</table>\n",
              "</div>"
            ],
            "text/plain": [
              "   X1 transaction date  X2 house age  ...  X6 longitude  Y house price of unit area\n",
              "0             2012.917          32.0  ...     121.54024                        37.9\n",
              "1             2012.917          19.5  ...     121.53951                        42.2\n",
              "2             2013.583          13.3  ...     121.54391                        47.3\n",
              "3             2013.500          13.3  ...     121.54391                        54.8\n",
              "4             2012.833           5.0  ...     121.54245                        43.1\n",
              "\n",
              "[5 rows x 7 columns]"
            ]
          },
          "metadata": {
            "tags": []
          },
          "execution_count": 267
        }
      ]
    },
    {
      "cell_type": "code",
      "metadata": {
        "id": "RM0EGM2m_n8U",
        "colab": {
          "base_uri": "https://localhost:8080/"
        },
        "outputId": "9b52523e-3f8d-4c04-c759-43a0d44e8095"
      },
      "source": [
        "Y= real_estate_df.pop(\"Y house price of unit area\")\n",
        "from sklearn.preprocessing import StandardScaler\n",
        "sc = StandardScaler()\n",
        "X_np = sc.fit_transform(real_estate_df)\n",
        "X = pd.DataFrame(X_np, columns=['X1 transaction date','X2 house age',\t'X3 distance to the nearest MRT station','X4 number of convenience stores',\t'X5 latitude'\t,'X6 longitude'])\n",
        "#X.tail()\n",
        "\n",
        "from sklearn.model_selection import train_test_split\n",
        "\n",
        "X_tr, X_test, y_tr, y_test = train_test_split(X, Y, test_size=0.15, random_state=42)\n",
        "print(\"Full train data shape:\", X_tr.shape, \"Full train label shape:\", y_tr.shape, \"Test data shape:\", X_test.shape, \"Test label shape:\", y_test.shape)\n",
        "\n",
        "X_train, X_valid, y_train, y_valid = train_test_split(X_tr, y_tr, test_size=0.15, random_state=42)\n",
        "print(\"Train data shape:\", X_train.shape, \"Train label shape:\", y_train.shape, \"Validation data shape:\", X_valid.shape, \"Validation label shape:\", y_valid.shape)\n",
        "\n",
        "from sklearn.preprocessing import PolynomialFeatures\n",
        "from sklearn.pipeline import make_pipeline\n",
        "from sklearn.linear_model import LinearRegression\n",
        "from math import sqrt\n",
        "from sklearn.metrics import mean_absolute_error, mean_squared_error\n",
        "\n",
        "\n",
        "poly_reg = PolynomialFeatures(degree=3)\n",
        "X_poly_train = poly_reg.fit_transform(X_train)\n",
        "lin_reg = LinearRegression()\n",
        "start_time = time.time()\n",
        "lin_reg.fit(X_poly_train, y_train)\n",
        "print(\"Time for the training: %.4f secs\" % (time.time()-start_time))\n",
        "\n",
        "start_time_acc = time.time()\n",
        "y_pred = lin_reg.predict(X_poly_train)\n",
        "print(\"Time for the prediction: %.4f secs\" % (time.time()-start_time_acc))\n",
        "\n",
        "m=mean_squared_error(y_train, y_pred)\n",
        "print(\"The train mean squared error for p=3 is\",m )\n",
        "\n",
        "\n",
        "X_poly_valid = poly_reg.transform(X_valid)\n",
        "y_pred2 = lin_reg.predict(X_poly_valid)\n",
        "\n",
        "v_mse = mean_squared_error(y_valid, y_pred2)\n",
        "print(\"The validation mean squared error for p=3 is\",v_mse )\n",
        "\n",
        "\n",
        "#test\n",
        "X_poly_test = poly_reg.transform(X_test)\n",
        "#X_poly_test.shape\n",
        "\n",
        "y_pred = lin_reg.predict(X_poly_test)\n",
        "\n",
        "print(\"Test Mean squared error: %.2f\"\n",
        "      % mean_squared_error(y_test, y_pred))\n",
        "\n"
      ],
      "execution_count": null,
      "outputs": [
        {
          "output_type": "stream",
          "text": [
            "Full train data shape: (351, 6) Full train label shape: (351,) Test data shape: (63, 6) Test label shape: (63,)\n",
            "Train data shape: (298, 6) Train label shape: (298,) Validation data shape: (53, 6) Validation label shape: (53,)\n",
            "Time for the training: 0.0049 secs\n",
            "Time for the prediction: 0.0005 secs\n",
            "The train mean squared error for p=3 is 42.34810514192914\n",
            "The validation mean squared error for p=3 is 46.050846489475504\n",
            "Test Mean squared error: 52.89\n"
          ],
          "name": "stdout"
        }
      ]
    },
    {
      "cell_type": "markdown",
      "metadata": {
        "id": "9aNJLQC1wVmF"
      },
      "source": [
        "### d=1\n",
        "\n",
        "\n",
        "\n"
      ]
    },
    {
      "cell_type": "code",
      "metadata": {
        "colab": {
          "base_uri": "https://localhost:8080/",
          "height": 204
        },
        "id": "DG6chOQpvTt5",
        "outputId": "216eae6c-8a8c-44b2-dca6-58275377a8aa"
      },
      "source": [
        "real_estate_df = pd.read_csv('/content/drive/MyDrive/Real estate.csv')\n",
        "real_estate_df.pop('No')\n",
        "real_estate_df.pop('X1 transaction date')\n",
        "real_estate_df.head()"
      ],
      "execution_count": null,
      "outputs": [
        {
          "output_type": "execute_result",
          "data": {
            "text/html": [
              "<div>\n",
              "<style scoped>\n",
              "    .dataframe tbody tr th:only-of-type {\n",
              "        vertical-align: middle;\n",
              "    }\n",
              "\n",
              "    .dataframe tbody tr th {\n",
              "        vertical-align: top;\n",
              "    }\n",
              "\n",
              "    .dataframe thead th {\n",
              "        text-align: right;\n",
              "    }\n",
              "</style>\n",
              "<table border=\"1\" class=\"dataframe\">\n",
              "  <thead>\n",
              "    <tr style=\"text-align: right;\">\n",
              "      <th></th>\n",
              "      <th>X2 house age</th>\n",
              "      <th>X3 distance to the nearest MRT station</th>\n",
              "      <th>X4 number of convenience stores</th>\n",
              "      <th>X5 latitude</th>\n",
              "      <th>X6 longitude</th>\n",
              "      <th>Y house price of unit area</th>\n",
              "    </tr>\n",
              "  </thead>\n",
              "  <tbody>\n",
              "    <tr>\n",
              "      <th>0</th>\n",
              "      <td>32.0</td>\n",
              "      <td>84.87882</td>\n",
              "      <td>10</td>\n",
              "      <td>24.98298</td>\n",
              "      <td>121.54024</td>\n",
              "      <td>37.9</td>\n",
              "    </tr>\n",
              "    <tr>\n",
              "      <th>1</th>\n",
              "      <td>19.5</td>\n",
              "      <td>306.59470</td>\n",
              "      <td>9</td>\n",
              "      <td>24.98034</td>\n",
              "      <td>121.53951</td>\n",
              "      <td>42.2</td>\n",
              "    </tr>\n",
              "    <tr>\n",
              "      <th>2</th>\n",
              "      <td>13.3</td>\n",
              "      <td>561.98450</td>\n",
              "      <td>5</td>\n",
              "      <td>24.98746</td>\n",
              "      <td>121.54391</td>\n",
              "      <td>47.3</td>\n",
              "    </tr>\n",
              "    <tr>\n",
              "      <th>3</th>\n",
              "      <td>13.3</td>\n",
              "      <td>561.98450</td>\n",
              "      <td>5</td>\n",
              "      <td>24.98746</td>\n",
              "      <td>121.54391</td>\n",
              "      <td>54.8</td>\n",
              "    </tr>\n",
              "    <tr>\n",
              "      <th>4</th>\n",
              "      <td>5.0</td>\n",
              "      <td>390.56840</td>\n",
              "      <td>5</td>\n",
              "      <td>24.97937</td>\n",
              "      <td>121.54245</td>\n",
              "      <td>43.1</td>\n",
              "    </tr>\n",
              "  </tbody>\n",
              "</table>\n",
              "</div>"
            ],
            "text/plain": [
              "   X2 house age  ...  Y house price of unit area\n",
              "0          32.0  ...                        37.9\n",
              "1          19.5  ...                        42.2\n",
              "2          13.3  ...                        47.3\n",
              "3          13.3  ...                        54.8\n",
              "4           5.0  ...                        43.1\n",
              "\n",
              "[5 rows x 6 columns]"
            ]
          },
          "metadata": {
            "tags": []
          },
          "execution_count": 269
        }
      ]
    },
    {
      "cell_type": "code",
      "metadata": {
        "colab": {
          "base_uri": "https://localhost:8080/"
        },
        "id": "oQQbHWkYv1tR",
        "outputId": "43466b78-0744-4a50-c88e-1095d5230c97"
      },
      "source": [
        "Y= real_estate_df.pop(\"Y house price of unit area\")\n",
        "from sklearn.preprocessing import StandardScaler\n",
        "sc = StandardScaler()\n",
        "X_np = sc.fit_transform(real_estate_df)\n",
        "X = pd.DataFrame(X_np, columns=['X1 transaction date','X2 house age','X4 number of convenience stores',\t'X5 latitude'\t,'X6 longitude'])\n",
        "#X.tail()\n",
        "\n",
        "from sklearn.model_selection import train_test_split\n",
        "\n",
        "X_tr, X_test, y_tr, y_test = train_test_split(X, Y, test_size=0.15, random_state=42)\n",
        "print(\"Full train data shape:\", X_tr.shape, \"Full train label shape:\", y_tr.shape, \"Test data shape:\", X_test.shape, \"Test label shape:\", y_test.shape)\n",
        "\n",
        "X_train, X_valid, y_train, y_valid = train_test_split(X_tr, y_tr, test_size=0.15, random_state=42)\n",
        "print(\"Train data shape:\", X_train.shape, \"Train label shape:\", y_train.shape, \"Validation data shape:\", X_valid.shape, \"Validation label shape:\", y_valid.shape)\n",
        "\n",
        "from sklearn.preprocessing import PolynomialFeatures\n",
        "from sklearn.pipeline import make_pipeline\n",
        "from sklearn.linear_model import LinearRegression\n",
        "from math import sqrt\n",
        "from sklearn.metrics import mean_absolute_error, mean_squared_error\n",
        "\n",
        "\n",
        "poly_reg = PolynomialFeatures(degree=3)\n",
        "X_poly_train = poly_reg.fit_transform(X_train)\n",
        "lin_reg = LinearRegression()\n",
        "start_time = time.time()\n",
        "lin_reg.fit(X_poly_train, y_train)\n",
        "print(\"Time for the training: %.4f secs\" % (time.time()-start_time))\n",
        "\n",
        "start_time_acc = time.time()\n",
        "y_pred = lin_reg.predict(X_poly_train)\n",
        "print(\"Time for the prediction: %.4f secs\" % (time.time()-start_time_acc))\n",
        "m=mean_squared_error(y_train, y_pred)\n",
        "print(\"The train mean squared error for p=3 is\",m )\n",
        "\n",
        "\n",
        "X_poly_valid = poly_reg.transform(X_valid)\n",
        "y_pred2 = lin_reg.predict(X_poly_valid)\n",
        "\n",
        "v_mse = mean_squared_error(y_valid, y_pred2)\n",
        "print(\"The validation mean squared error for p=3 is\",v_mse )\n",
        "\n",
        "\n",
        "#test\n",
        "X_poly_test = poly_reg.transform(X_test)\n",
        "#X_poly_test.shape\n",
        "\n",
        "y_pred = lin_reg.predict(X_poly_test)\n",
        "\n",
        "print(\"Test Mean squared error: %.2f\"\n",
        "      % mean_squared_error(y_test, y_pred))\n",
        "\n"
      ],
      "execution_count": null,
      "outputs": [
        {
          "output_type": "stream",
          "text": [
            "Full train data shape: (351, 5) Full train label shape: (351,) Test data shape: (63, 5) Test label shape: (63,)\n",
            "Train data shape: (298, 5) Train label shape: (298,) Validation data shape: (53, 5) Validation label shape: (53,)\n",
            "Time for the training: 0.0054 secs\n",
            "Time for the prediction: 0.0045 secs\n",
            "The train mean squared error for p=3 is 48.08563134389236\n",
            "The validation mean squared error for p=3 is 51.8383185443985\n",
            "Test Mean squared error: 42.35\n"
          ],
          "name": "stdout"
        }
      ]
    },
    {
      "cell_type": "markdown",
      "metadata": {
        "id": "Q4Ukqj1nwvpZ"
      },
      "source": [
        "### d=2"
      ]
    },
    {
      "cell_type": "code",
      "metadata": {
        "colab": {
          "base_uri": "https://localhost:8080/",
          "height": 204
        },
        "id": "1_rWXwgtvfqR",
        "outputId": "41cf5b77-bb76-48e1-a92e-d333f7cc75a3"
      },
      "source": [
        "real_estate_df = pd.read_csv('/content/drive/MyDrive/Real estate.csv')\n",
        "real_estate_df.pop('No')\n",
        "real_estate_df.pop('X1 transaction date')\n",
        "real_estate_df.pop('X2 house age')\n",
        "real_estate_df.head()"
      ],
      "execution_count": null,
      "outputs": [
        {
          "output_type": "execute_result",
          "data": {
            "text/html": [
              "<div>\n",
              "<style scoped>\n",
              "    .dataframe tbody tr th:only-of-type {\n",
              "        vertical-align: middle;\n",
              "    }\n",
              "\n",
              "    .dataframe tbody tr th {\n",
              "        vertical-align: top;\n",
              "    }\n",
              "\n",
              "    .dataframe thead th {\n",
              "        text-align: right;\n",
              "    }\n",
              "</style>\n",
              "<table border=\"1\" class=\"dataframe\">\n",
              "  <thead>\n",
              "    <tr style=\"text-align: right;\">\n",
              "      <th></th>\n",
              "      <th>X3 distance to the nearest MRT station</th>\n",
              "      <th>X4 number of convenience stores</th>\n",
              "      <th>X5 latitude</th>\n",
              "      <th>X6 longitude</th>\n",
              "      <th>Y house price of unit area</th>\n",
              "    </tr>\n",
              "  </thead>\n",
              "  <tbody>\n",
              "    <tr>\n",
              "      <th>0</th>\n",
              "      <td>84.87882</td>\n",
              "      <td>10</td>\n",
              "      <td>24.98298</td>\n",
              "      <td>121.54024</td>\n",
              "      <td>37.9</td>\n",
              "    </tr>\n",
              "    <tr>\n",
              "      <th>1</th>\n",
              "      <td>306.59470</td>\n",
              "      <td>9</td>\n",
              "      <td>24.98034</td>\n",
              "      <td>121.53951</td>\n",
              "      <td>42.2</td>\n",
              "    </tr>\n",
              "    <tr>\n",
              "      <th>2</th>\n",
              "      <td>561.98450</td>\n",
              "      <td>5</td>\n",
              "      <td>24.98746</td>\n",
              "      <td>121.54391</td>\n",
              "      <td>47.3</td>\n",
              "    </tr>\n",
              "    <tr>\n",
              "      <th>3</th>\n",
              "      <td>561.98450</td>\n",
              "      <td>5</td>\n",
              "      <td>24.98746</td>\n",
              "      <td>121.54391</td>\n",
              "      <td>54.8</td>\n",
              "    </tr>\n",
              "    <tr>\n",
              "      <th>4</th>\n",
              "      <td>390.56840</td>\n",
              "      <td>5</td>\n",
              "      <td>24.97937</td>\n",
              "      <td>121.54245</td>\n",
              "      <td>43.1</td>\n",
              "    </tr>\n",
              "  </tbody>\n",
              "</table>\n",
              "</div>"
            ],
            "text/plain": [
              "   X3 distance to the nearest MRT station  ...  Y house price of unit area\n",
              "0                                84.87882  ...                        37.9\n",
              "1                               306.59470  ...                        42.2\n",
              "2                               561.98450  ...                        47.3\n",
              "3                               561.98450  ...                        54.8\n",
              "4                               390.56840  ...                        43.1\n",
              "\n",
              "[5 rows x 5 columns]"
            ]
          },
          "metadata": {
            "tags": []
          },
          "execution_count": 271
        }
      ]
    },
    {
      "cell_type": "code",
      "metadata": {
        "colab": {
          "base_uri": "https://localhost:8080/"
        },
        "id": "XT__86o0v6Ya",
        "outputId": "ee3c61eb-056c-4c6e-d310-7e064352bd87"
      },
      "source": [
        "Y= real_estate_df.pop(\"Y house price of unit area\")\n",
        "from sklearn.preprocessing import StandardScaler\n",
        "sc = StandardScaler()\n",
        "X_np = sc.fit_transform(real_estate_df)\n",
        "X = pd.DataFrame(X_np, columns=['X1 transaction date','X4 number of convenience stores',\t'X5 latitude'\t,'X6 longitude'])\n",
        "#X.tail()\n",
        "\n",
        "from sklearn.model_selection import train_test_split\n",
        "\n",
        "X_tr, X_test, y_tr, y_test = train_test_split(X, Y, test_size=0.15, random_state=42)\n",
        "print(\"Full train data shape:\", X_tr.shape, \"Full train label shape:\", y_tr.shape, \"Test data shape:\", X_test.shape, \"Test label shape:\", y_test.shape)\n",
        "\n",
        "X_train, X_valid, y_train, y_valid = train_test_split(X_tr, y_tr, test_size=0.15, random_state=42)\n",
        "print(\"Train data shape:\", X_train.shape, \"Train label shape:\", y_train.shape, \"Validation data shape:\", X_valid.shape, \"Validation label shape:\", y_valid.shape)\n",
        "\n",
        "from sklearn.preprocessing import PolynomialFeatures\n",
        "from sklearn.pipeline import make_pipeline\n",
        "from sklearn.linear_model import LinearRegression\n",
        "from math import sqrt\n",
        "from sklearn.metrics import mean_absolute_error, mean_squared_error\n",
        "\n",
        "\n",
        "poly_reg = PolynomialFeatures(degree=3)\n",
        "X_poly_train = poly_reg.fit_transform(X_train)\n",
        "lin_reg = LinearRegression()\n",
        "start_time = time.time()\n",
        "lin_reg.fit(X_poly_train, y_train)\n",
        "print(\"Time for the training: %.4f secs\" % (time.time()-start_time))\n",
        "\n",
        "start_time_acc = time.time()\n",
        "y_pred = lin_reg.predict(X_poly_train)\n",
        "print(\"Time for the prediction: %.4f secs\" % (time.time()-start_time_acc))\n",
        "\n",
        "m=mean_squared_error(y_train, y_pred)\n",
        "print(\"The train mean squared error for p=3 is\",m )\n",
        "\n",
        "\n",
        "X_poly_valid = poly_reg.transform(X_valid)\n",
        "y_pred2 = lin_reg.predict(X_poly_valid)\n",
        "\n",
        "v_mse = mean_squared_error(y_valid, y_pred2)\n",
        "print(\"The validation mean squared error for p=3 is\",v_mse )\n",
        "\n",
        "\n",
        "#test\n",
        "X_poly_test = poly_reg.transform(X_test)\n",
        "#X_poly_test.shape\n",
        "\n",
        "y_pred = lin_reg.predict(X_poly_test)\n",
        "\n",
        "print(\"Test Mean squared error: %.2f\"\n",
        "      % mean_squared_error(y_test, y_pred))\n",
        "\n"
      ],
      "execution_count": null,
      "outputs": [
        {
          "output_type": "stream",
          "text": [
            "Full train data shape: (351, 4) Full train label shape: (351,) Test data shape: (63, 4) Test label shape: (63,)\n",
            "Train data shape: (298, 4) Train label shape: (298,) Validation data shape: (53, 4) Validation label shape: (53,)\n",
            "Time for the training: 0.0064 secs\n",
            "Time for the prediction: 0.0017 secs\n",
            "The train mean squared error for p=3 is 60.45623034661365\n",
            "The validation mean squared error for p=3 is 57.448897590010766\n",
            "Test Mean squared error: 48.69\n"
          ],
          "name": "stdout"
        }
      ]
    },
    {
      "cell_type": "markdown",
      "metadata": {
        "id": "t4BgCmjzwVYW"
      },
      "source": [
        "### d=3"
      ]
    },
    {
      "cell_type": "code",
      "metadata": {
        "colab": {
          "base_uri": "https://localhost:8080/",
          "height": 204
        },
        "id": "OQ4RnbbRvmJE",
        "outputId": "af0cda55-479c-4a49-a338-7bc157d7f015"
      },
      "source": [
        "real_estate_df = pd.read_csv('/content/drive/MyDrive/Real estate.csv')\n",
        "real_estate_df.pop('No')\n",
        "real_estate_df.pop('X6 longitude')\n",
        "real_estate_df.pop('X2 house age')\n",
        "real_estate_df.pop('X1 transaction date')\n",
        "\n",
        "real_estate_df.head()"
      ],
      "execution_count": null,
      "outputs": [
        {
          "output_type": "execute_result",
          "data": {
            "text/html": [
              "<div>\n",
              "<style scoped>\n",
              "    .dataframe tbody tr th:only-of-type {\n",
              "        vertical-align: middle;\n",
              "    }\n",
              "\n",
              "    .dataframe tbody tr th {\n",
              "        vertical-align: top;\n",
              "    }\n",
              "\n",
              "    .dataframe thead th {\n",
              "        text-align: right;\n",
              "    }\n",
              "</style>\n",
              "<table border=\"1\" class=\"dataframe\">\n",
              "  <thead>\n",
              "    <tr style=\"text-align: right;\">\n",
              "      <th></th>\n",
              "      <th>X3 distance to the nearest MRT station</th>\n",
              "      <th>X4 number of convenience stores</th>\n",
              "      <th>X5 latitude</th>\n",
              "      <th>Y house price of unit area</th>\n",
              "    </tr>\n",
              "  </thead>\n",
              "  <tbody>\n",
              "    <tr>\n",
              "      <th>0</th>\n",
              "      <td>84.87882</td>\n",
              "      <td>10</td>\n",
              "      <td>24.98298</td>\n",
              "      <td>37.9</td>\n",
              "    </tr>\n",
              "    <tr>\n",
              "      <th>1</th>\n",
              "      <td>306.59470</td>\n",
              "      <td>9</td>\n",
              "      <td>24.98034</td>\n",
              "      <td>42.2</td>\n",
              "    </tr>\n",
              "    <tr>\n",
              "      <th>2</th>\n",
              "      <td>561.98450</td>\n",
              "      <td>5</td>\n",
              "      <td>24.98746</td>\n",
              "      <td>47.3</td>\n",
              "    </tr>\n",
              "    <tr>\n",
              "      <th>3</th>\n",
              "      <td>561.98450</td>\n",
              "      <td>5</td>\n",
              "      <td>24.98746</td>\n",
              "      <td>54.8</td>\n",
              "    </tr>\n",
              "    <tr>\n",
              "      <th>4</th>\n",
              "      <td>390.56840</td>\n",
              "      <td>5</td>\n",
              "      <td>24.97937</td>\n",
              "      <td>43.1</td>\n",
              "    </tr>\n",
              "  </tbody>\n",
              "</table>\n",
              "</div>"
            ],
            "text/plain": [
              "   X3 distance to the nearest MRT station  ...  Y house price of unit area\n",
              "0                                84.87882  ...                        37.9\n",
              "1                               306.59470  ...                        42.2\n",
              "2                               561.98450  ...                        47.3\n",
              "3                               561.98450  ...                        54.8\n",
              "4                               390.56840  ...                        43.1\n",
              "\n",
              "[5 rows x 4 columns]"
            ]
          },
          "metadata": {
            "tags": []
          },
          "execution_count": 273
        }
      ]
    },
    {
      "cell_type": "code",
      "metadata": {
        "colab": {
          "base_uri": "https://localhost:8080/"
        },
        "id": "AwVbGOo5v8mR",
        "outputId": "7fe61422-b340-47aa-b840-664b6c0ffe3e"
      },
      "source": [
        "Y= real_estate_df.pop(\"Y house price of unit area\")\n",
        "from sklearn.preprocessing import StandardScaler\n",
        "sc = StandardScaler()\n",
        "X_np = sc.fit_transform(real_estate_df)\n",
        "X = pd.DataFrame(X_np, columns=['X4 number of convenience stores',\t'X5 latitude'\t,'X6 longitude'])\n",
        "#X.tail()\n",
        "\n",
        "from sklearn.model_selection import train_test_split\n",
        "\n",
        "X_tr, X_test, y_tr, y_test = train_test_split(X, Y, test_size=0.15, random_state=42)\n",
        "print(\"Full train data shape:\", X_tr.shape, \"Full train label shape:\", y_tr.shape, \"Test data shape:\", X_test.shape, \"Test label shape:\", y_test.shape)\n",
        "\n",
        "X_train, X_valid, y_train, y_valid = train_test_split(X_tr, y_tr, test_size=0.15, random_state=42)\n",
        "print(\"Train data shape:\", X_train.shape, \"Train label shape:\", y_train.shape, \"Validation data shape:\", X_valid.shape, \"Validation label shape:\", y_valid.shape)\n",
        "\n",
        "from sklearn.preprocessing import PolynomialFeatures\n",
        "from sklearn.pipeline import make_pipeline\n",
        "from sklearn.linear_model import LinearRegression\n",
        "from math import sqrt\n",
        "from sklearn.metrics import mean_absolute_error, mean_squared_error\n",
        "\n",
        "\n",
        "poly_reg = PolynomialFeatures(degree=3)\n",
        "X_poly_train = poly_reg.fit_transform(X_train)\n",
        "lin_reg = LinearRegression()\n",
        "start_time_acc = time.time()\n",
        "lin_reg.fit(X_poly_train, y_train)\n",
        "print(\"Time for the training: %.4f secs\" % (time.time()-start_time))\n",
        "start_time_acc = time.time()\n",
        "y_pred = lin_reg.predict(X_poly_train)\n",
        "print(\"Time for prediction: %.4f secs\" % (time.time()-start_time))\n",
        "\n",
        "\n",
        "m=mean_squared_error(y_train, y_pred)\n",
        "print(\"The train mean squared error for p=3 is\",m )\n",
        "\n",
        "\n",
        "X_poly_valid = poly_reg.transform(X_valid)\n",
        "y_pred2 = lin_reg.predict(X_poly_valid)\n",
        "\n",
        "v_mse = mean_squared_error(y_valid, y_pred2)\n",
        "print(\"The validation mean squared error for p=3 is\",v_mse )\n",
        "\n",
        "\n",
        "#test\n",
        "X_poly_test = poly_reg.transform(X_test)\n",
        "#X_poly_test.shape\n",
        "\n",
        "y_pred = lin_reg.predict(X_poly_test)\n",
        "\n",
        "print(\"Test Mean squared error: %.2f\"\n",
        "      % mean_squared_error(y_test, y_pred))\n",
        "\n"
      ],
      "execution_count": null,
      "outputs": [
        {
          "output_type": "stream",
          "text": [
            "Full train data shape: (351, 3) Full train label shape: (351,) Test data shape: (63, 3) Test label shape: (63,)\n",
            "Train data shape: (298, 3) Train label shape: (298,) Validation data shape: (53, 3) Validation label shape: (53,)\n",
            "Time for the training: 0.1831 secs\n",
            "Time for prediction: 0.1835 secs\n",
            "The train mean squared error for p=3 is 67.85809584714261\n",
            "The validation mean squared error for p=3 is 62.21456873328515\n",
            "Test Mean squared error: 75.74\n"
          ],
          "name": "stdout"
        }
      ]
    },
    {
      "cell_type": "markdown",
      "metadata": {
        "id": "x_XTnaMGxfkW"
      },
      "source": [
        "# 8) Notebook & Report\n",
        "\n",
        "\n",
        "\n",
        "---\n",
        "**Problem Definition:** The aim of this project is to build a model to  predict real estate prices using Machine Learning\n",
        "approaches.Two of the following regression models are compared based on their performances :\n",
        "1. Simple Regression \n",
        "2. Polynomial Regression\n",
        "models\n",
        "\n",
        "**Preprocessing:** The data had no null values in any columns.The irrelevant column `No` which would have a bad effect on the model was dropped.Then the label or target feature Y was removed from the dataset and the data was standardized before spilitting.\n",
        "The standardized data was split into train, test and validation with a 70:15:15 split.\n",
        "\n",
        "**HyperParameter Tunning:** \n",
        "The first hyperparamter to be considered was the p valve or the degree of the polynomial for the model.\n",
        "Train and validation Mean squared Errors were experimented over different p values.According to the results for Train mean squared errors the MSE decresed as p value incresed however for validation score the minimum MSE was for p=3.The aim was to find the p value which gives the minimum MSE.\n",
        "The values above p=3 gave a higher MSE probably because the model was overfitting and too complex.\n",
        "\n",
        "The train mean squared error for p= 3 is 42.34810514192914\n",
        "\n",
        "The validation mean squared error for p= 3 is 46.050846489475504\n",
        "\n",
        "As the complexity of the model incearses i.e as p value increases the value increases the time from training and pediction also increased.\n",
        "\n",
        "The second hyperparameter was d where a covariance matix was constructed to study which features/X's impact the prediction of Y more.The ones that closest to zero were one by one removed from the data base to check the perfromace in order.\n",
        "d=0 no Xi column was removed where i=1,...,6\n",
        "\n",
        "d=1,  X1\n",
        "\n",
        "d=2, X1 and X=2\n",
        "\n",
        "d=3, X=6 X=2 X=1\n",
        "\n",
        "are removed in order of increasing value of correlation or covariance.\n",
        "\n",
        "The best performace from test,train and validation were all observed when p=3 and d=3.\n",
        "\n",
        "The train mean squared error for p=3 is 67.85809584714261\n",
        "\n",
        "The validation mean squared error for p=3 is 62.21456873328515\n",
        "\n",
        "Test Mean squared error: 75.74\n",
        "\n",
        "\n",
        "\n",
        "\n"
      ]
    }
  ]
}