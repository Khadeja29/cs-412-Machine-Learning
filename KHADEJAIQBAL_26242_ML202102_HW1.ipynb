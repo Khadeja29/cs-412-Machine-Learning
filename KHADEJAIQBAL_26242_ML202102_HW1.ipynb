{
  "nbformat": 4,
  "nbformat_minor": 0,
  "metadata": {
    "colab": {
      "name": " KHADEJAIQBAL_26242_ML202102_HW1.ipynb",
      "provenance": [],
      "collapsed_sections": [],
      "include_colab_link": true
    },
    "kernelspec": {
      "display_name": "Python 3",
      "name": "python3"
    }
  },
  "cells": [
    {
      "cell_type": "markdown",
      "metadata": {
        "id": "view-in-github",
        "colab_type": "text"
      },
      "source": [
        "<a href=\"https://colab.research.google.com/github/Khadeja29/cs-412-Machine-Learning/blob/main/KHADEJAIQBAL_26242_ML202102_HW1.ipynb\" target=\"_parent\"><img src=\"https://colab.research.google.com/assets/colab-badge.svg\" alt=\"Open In Colab\"/></a>"
      ]
    },
    {
      "cell_type": "markdown",
      "metadata": {
        "id": "zrzkxpZrCF6D"
      },
      "source": [
        "# CS 412 Machine Learning 2020 \n",
        "\n",
        "# Assignment 1\n",
        "\n",
        "100 pts\n",
        "\n",
        "## Goal \n",
        "\n",
        "The goal of this assignment \n",
        "\n",
        "*  Introduction to the machine learning experimental set up\n",
        "*  Gain experience with the Scikit library\n",
        "*  Gain experience with Decision tree and k-NN models\n",
        "\n",
        "## Dataset\n",
        "\n",
        "**Wine Quality Dataset** is a collection red and white wines with 12 attributes. The target variable is the 'quality' either 0 or 1\n",
        "\n",
        "\n",
        "## Task\n",
        "Build a decision tree and k-NN classifiers with the scikit-learn library function calls to **classify** the quality of wine as good (1) and bad (0)\n",
        "\n",
        "## Submission\n",
        "\n",
        "Follow the instructions at the end."
      ]
    },
    {
      "cell_type": "markdown",
      "metadata": {
        "id": "18kyKgy9LiZx"
      },
      "source": [
        "# 1) Initialize\n",
        "\n",
        "First, make a copy of this notebook in your drive"
      ]
    },
    {
      "cell_type": "code",
      "metadata": {
        "colab": {
          "base_uri": "https://localhost:8080/"
        },
        "id": "eTJUORO9CBNq",
        "outputId": "c2d8222e-05de-4321-ea9b-b425ddd1587f"
      },
      "source": [
        "# Mount to your drive, in this way you can reach files that are in your drive\n",
        "# Run this cell\n",
        "\n",
        "from google.colab import drive\n",
        "drive.mount('/content/drive')"
      ],
      "execution_count": null,
      "outputs": [
        {
          "output_type": "stream",
          "text": [
            "Drive already mounted at /content/drive; to attempt to forcibly remount, call drive.mount(\"/content/drive\", force_remount=True).\n"
          ],
          "name": "stdout"
        }
      ]
    },
    {
      "cell_type": "markdown",
      "metadata": {
        "id": "FtputkpVLt8H"
      },
      "source": [
        "# 2) Load Dataset\n",
        "To start working for your homework, take a copy of the folder, given in the below link to your own google drive. You find the train and test data under this folder.\n",
        "\n",
        "https://drive.google.com/drive/folders/1PC6M332CTdW-OOrgJ-1GU1F3UaRupka8?usp=sharing\n",
        "\n",
        "After copy the folder, copy the path of the train and test dataset to paste them in the below cell to load your data."
      ]
    },
    {
      "cell_type": "code",
      "metadata": {
        "id": "gB1Fur5APIjQ"
      },
      "source": [
        "import pandas as pd\n",
        "import numpy as np\n",
        "import time\n",
        "\n",
        "train_df = pd.read_csv('/content/drive/MyDrive/winequality-train.csv')\n",
        "test_df = pd.read_csv('/content/drive/MyDrive/winequality-test.csv')"
      ],
      "execution_count": null,
      "outputs": []
    },
    {
      "cell_type": "markdown",
      "metadata": {
        "id": "Rtcu1QMXMLBN"
      },
      "source": [
        "# 3) Understand the dataset\n",
        "\n",
        "You can use the fuctions that we saw in the recitations to understand the dataset"
      ]
    },
    {
      "cell_type": "code",
      "metadata": {
        "colab": {
          "base_uri": "https://localhost:8080/",
          "height": 255
        },
        "id": "KjQj6XQNMd68",
        "outputId": "75444981-e185-47c4-b4e7-70f57b77dbff"
      },
      "source": [
        "# print shape of the train and test sets\n",
        "print(\"Shape of the train set is: \", train_df.shape)\n",
        "print(\"Shape of the train set is: \", test_df.shape)\n",
        "\n",
        "# show random samples from the training data\n",
        "train_df.sample(5)"
      ],
      "execution_count": null,
      "outputs": [
        {
          "output_type": "stream",
          "text": [
            "Shape of the train set is:  (5198, 13)\n",
            "Shape of the train set is:  (1299, 13)\n"
          ],
          "name": "stdout"
        },
        {
          "output_type": "execute_result",
          "data": {
            "text/html": [
              "<div>\n",
              "<style scoped>\n",
              "    .dataframe tbody tr th:only-of-type {\n",
              "        vertical-align: middle;\n",
              "    }\n",
              "\n",
              "    .dataframe tbody tr th {\n",
              "        vertical-align: top;\n",
              "    }\n",
              "\n",
              "    .dataframe thead th {\n",
              "        text-align: right;\n",
              "    }\n",
              "</style>\n",
              "<table border=\"1\" class=\"dataframe\">\n",
              "  <thead>\n",
              "    <tr style=\"text-align: right;\">\n",
              "      <th></th>\n",
              "      <th>fixed acidity</th>\n",
              "      <th>volatile acidity</th>\n",
              "      <th>citric acid</th>\n",
              "      <th>residual sugar</th>\n",
              "      <th>chlorides</th>\n",
              "      <th>free sulfur dioxide</th>\n",
              "      <th>total sulfur dioxide</th>\n",
              "      <th>density</th>\n",
              "      <th>pH</th>\n",
              "      <th>sulphates</th>\n",
              "      <th>alcohol</th>\n",
              "      <th>wine type</th>\n",
              "      <th>quality</th>\n",
              "    </tr>\n",
              "  </thead>\n",
              "  <tbody>\n",
              "    <tr>\n",
              "      <th>4616</th>\n",
              "      <td>6.8</td>\n",
              "      <td>0.23</td>\n",
              "      <td>0.33</td>\n",
              "      <td>1.90</td>\n",
              "      <td>0.047</td>\n",
              "      <td>20.0</td>\n",
              "      <td>101.0</td>\n",
              "      <td>0.9914</td>\n",
              "      <td>3.10</td>\n",
              "      <td>0.46</td>\n",
              "      <td>11.1</td>\n",
              "      <td>0</td>\n",
              "      <td>0</td>\n",
              "    </tr>\n",
              "    <tr>\n",
              "      <th>1651</th>\n",
              "      <td>11.0</td>\n",
              "      <td>0.26</td>\n",
              "      <td>0.68</td>\n",
              "      <td>2.55</td>\n",
              "      <td>0.085</td>\n",
              "      <td>10.0</td>\n",
              "      <td>25.0</td>\n",
              "      <td>0.9970</td>\n",
              "      <td>3.18</td>\n",
              "      <td>0.61</td>\n",
              "      <td>11.8</td>\n",
              "      <td>1</td>\n",
              "      <td>0</td>\n",
              "    </tr>\n",
              "    <tr>\n",
              "      <th>1990</th>\n",
              "      <td>6.4</td>\n",
              "      <td>0.50</td>\n",
              "      <td>0.16</td>\n",
              "      <td>12.90</td>\n",
              "      <td>0.042</td>\n",
              "      <td>26.0</td>\n",
              "      <td>138.0</td>\n",
              "      <td>0.9974</td>\n",
              "      <td>3.28</td>\n",
              "      <td>0.33</td>\n",
              "      <td>9.0</td>\n",
              "      <td>0</td>\n",
              "      <td>0</td>\n",
              "    </tr>\n",
              "    <tr>\n",
              "      <th>79</th>\n",
              "      <td>9.4</td>\n",
              "      <td>0.59</td>\n",
              "      <td>0.14</td>\n",
              "      <td>2.00</td>\n",
              "      <td>0.044</td>\n",
              "      <td>25.0</td>\n",
              "      <td>48.0</td>\n",
              "      <td>0.9981</td>\n",
              "      <td>3.14</td>\n",
              "      <td>0.56</td>\n",
              "      <td>9.7</td>\n",
              "      <td>1</td>\n",
              "      <td>0</td>\n",
              "    </tr>\n",
              "    <tr>\n",
              "      <th>4923</th>\n",
              "      <td>6.7</td>\n",
              "      <td>0.75</td>\n",
              "      <td>0.12</td>\n",
              "      <td>2.00</td>\n",
              "      <td>0.086</td>\n",
              "      <td>12.0</td>\n",
              "      <td>80.0</td>\n",
              "      <td>0.9958</td>\n",
              "      <td>3.38</td>\n",
              "      <td>0.52</td>\n",
              "      <td>10.1</td>\n",
              "      <td>1</td>\n",
              "      <td>0</td>\n",
              "    </tr>\n",
              "  </tbody>\n",
              "</table>\n",
              "</div>"
            ],
            "text/plain": [
              "      fixed acidity  volatile acidity  citric acid  ...  alcohol  wine type  quality\n",
              "4616            6.8              0.23         0.33  ...     11.1          0        0\n",
              "1651           11.0              0.26         0.68  ...     11.8          1        0\n",
              "1990            6.4              0.50         0.16  ...      9.0          0        0\n",
              "79              9.4              0.59         0.14  ...      9.7          1        0\n",
              "4923            6.7              0.75         0.12  ...     10.1          1        0\n",
              "\n",
              "[5 rows x 13 columns]"
            ]
          },
          "metadata": {
            "tags": []
          },
          "execution_count": 45
        }
      ]
    },
    {
      "cell_type": "code",
      "metadata": {
        "colab": {
          "base_uri": "https://localhost:8080/"
        },
        "id": "5B93dybOMqBF",
        "outputId": "a917e67c-e5d6-4ae8-ad42-2a32772da504"
      },
      "source": [
        "# print information about the datasets (Is there any missing value? or Categorical feature?)\n",
        "train_df.info()"
      ],
      "execution_count": null,
      "outputs": [
        {
          "output_type": "stream",
          "text": [
            "<class 'pandas.core.frame.DataFrame'>\n",
            "RangeIndex: 5198 entries, 0 to 5197\n",
            "Data columns (total 13 columns):\n",
            " #   Column                Non-Null Count  Dtype  \n",
            "---  ------                --------------  -----  \n",
            " 0   fixed acidity         5198 non-null   float64\n",
            " 1   volatile acidity      5198 non-null   float64\n",
            " 2   citric acid           5198 non-null   float64\n",
            " 3   residual sugar        5198 non-null   float64\n",
            " 4   chlorides             5198 non-null   float64\n",
            " 5   free sulfur dioxide   5198 non-null   float64\n",
            " 6   total sulfur dioxide  5198 non-null   float64\n",
            " 7   density               5198 non-null   float64\n",
            " 8   pH                    5198 non-null   float64\n",
            " 9   sulphates             5198 non-null   float64\n",
            " 10  alcohol               5198 non-null   float64\n",
            " 11  wine type             5198 non-null   int64  \n",
            " 12  quality               5198 non-null   int64  \n",
            "dtypes: float64(11), int64(2)\n",
            "memory usage: 528.0 KB\n"
          ],
          "name": "stdout"
        }
      ]
    },
    {
      "cell_type": "code",
      "metadata": {
        "colab": {
          "base_uri": "https://localhost:8080/"
        },
        "id": "KdYznjZ4h_Cp",
        "outputId": "4795427d-9c84-4f97-854b-a3de608a89b5"
      },
      "source": [
        "test_df.info()"
      ],
      "execution_count": null,
      "outputs": [
        {
          "output_type": "stream",
          "text": [
            "<class 'pandas.core.frame.DataFrame'>\n",
            "RangeIndex: 1299 entries, 0 to 1298\n",
            "Data columns (total 13 columns):\n",
            " #   Column                Non-Null Count  Dtype  \n",
            "---  ------                --------------  -----  \n",
            " 0   fixed acidity         1299 non-null   float64\n",
            " 1   volatile acidity      1299 non-null   float64\n",
            " 2   citric acid           1299 non-null   float64\n",
            " 3   residual sugar        1299 non-null   float64\n",
            " 4   chlorides             1299 non-null   float64\n",
            " 5   free sulfur dioxide   1299 non-null   float64\n",
            " 6   total sulfur dioxide  1299 non-null   float64\n",
            " 7   density               1299 non-null   float64\n",
            " 8   pH                    1299 non-null   float64\n",
            " 9   sulphates             1299 non-null   float64\n",
            " 10  alcohol               1299 non-null   float64\n",
            " 11  wine type             1299 non-null   int64  \n",
            " 12  quality               1299 non-null   int64  \n",
            "dtypes: float64(11), int64(2)\n",
            "memory usage: 132.1 KB\n"
          ],
          "name": "stdout"
        }
      ]
    },
    {
      "cell_type": "markdown",
      "metadata": {
        "id": "PAFQHAq8Mno1"
      },
      "source": [
        "# 4) Define train and test labels"
      ]
    },
    {
      "cell_type": "code",
      "metadata": {
        "id": "JjW1ZNhONNCb"
      },
      "source": [
        "# make sure you remove the labels from datasets\n",
        "train_labels= train_df.pop(\"quality\")\n",
        "test_labels = test_df.pop(\"quality\")\n"
      ],
      "execution_count": null,
      "outputs": []
    },
    {
      "cell_type": "markdown",
      "metadata": {
        "id": "4fn3N4V_OlL_"
      },
      "source": [
        "# 5) FineTune Decision Tree hyper-parameters\n",
        "\n",
        "1-Splitting dataset into train and validation"
      ]
    },
    {
      "cell_type": "code",
      "metadata": {
        "id": "hJlxVMTnYTTg"
      },
      "source": [
        "# Split training data to 70% training and 30% validation, do not forget to use the random_state parameter\n",
        "from sklearn.model_selection import train_test_split\n",
        "x_train, x_val, y_train, y_val = train_test_split(train_df,train_labels,test_size=0.3,random_state=12)"
      ],
      "execution_count": null,
      "outputs": []
    },
    {
      "cell_type": "markdown",
      "metadata": {
        "id": "NNm9SC9JYXN2"
      },
      "source": [
        "2- FineTune minimum sample split"
      ]
    },
    {
      "cell_type": "code",
      "metadata": {
        "id": "UfTLLotIO3WX"
      },
      "source": [
        "from sklearn.tree import DecisionTreeClassifier\n",
        "\n",
        "min_samples_splits = range(2, 50)\n",
        "\n",
        "train_results = []\n",
        "val_results = []\n",
        "for min_samples_split in min_samples_splits:\n",
        "\n",
        "  # Fit the tree using the 70% portion of the training data\n",
        "  wine_model=DecisionTreeClassifier(random_state=12, min_samples_split= min_samples_split)\n",
        "  wine_model.fit(x_train,y_train)\n",
        "  \n",
        "  # Evaluate on Training set\n",
        "  train_acc = wine_model.score(x_train,y_train)\n",
        "  train_results.append(train_acc)\n",
        " \n",
        "   \n",
        "  # Evaluate on Validation set\n",
        "  val_acc = wine_model.score(x_val,y_val)\n",
        "  val_results.append(val_acc)\n",
        "  "
      ],
      "execution_count": null,
      "outputs": []
    },
    {
      "cell_type": "code",
      "metadata": {
        "id": "_jqCo52hPjkk",
        "colab": {
          "base_uri": "https://localhost:8080/",
          "height": 265
        },
        "outputId": "23224bcb-bc0d-45fa-d1de-2527a1b1e42f"
      },
      "source": [
        "# Plot the results\n",
        "import matplotlib.pyplot as plt\n",
        "\n",
        "plt.plot(min_samples_splits, train_results, 'b')\n",
        "plt.plot(min_samples_splits, val_results,'r')\n",
        "plt.show()"
      ],
      "execution_count": null,
      "outputs": [
        {
          "output_type": "display_data",
          "data": {
            "image/png": "[encoded data removed]",
            "text/plain": [
              "<Figure size 432x288 with 1 Axes>"
            ]
          },
          "metadata": {
            "tags": [],
            "needs_background": "light"
          }
        }
      ]
    },
    {
      "cell_type": "code",
      "metadata": {
        "colab": {
          "base_uri": "https://localhost:8080/"
        },
        "id": "nudafQPecNXE",
        "outputId": "2d4ed077-1ee7-431e-d639-bce468de1de2"
      },
      "source": [
        "# Computing the best possible hyperparameter value\n",
        "\n",
        "#finding all indexes storing maximum validation score\n",
        "max_value = np.amax(val_results)\n",
        "indices = [i for i, value in enumerate(val_results) if value == max_value]\n",
        "train_res=[]\n",
        "if (len(indices) > 1):\n",
        "  for i in indices:\n",
        "    train_res.append(train_results[i])\n",
        "  max_val = max(test_res)\n",
        "  for j in test_res:\n",
        "    if(test_res[j]== max_val):\n",
        "      ind= j\n",
        "      result=min_samples_splits[j]\n",
        "\n",
        "else:\n",
        "  result= min_samples_splits[indices[0]]\n",
        "  max_val= train_results[indices[0]]\n",
        "\n",
        "print(\"The model performces best when the min_samples_split= %d resulting in a validation score = %.5f%% and train score %.5f%%.\" % (result,max_value*100,max_val*100))"
      ],
      "execution_count": null,
      "outputs": [
        {
          "output_type": "stream",
          "text": [
            "The model performces best when the min_samples_split= 5 resulting in a validation score = 82.50000% and train score 98.24079%.\n"
          ],
          "name": "stdout"
        }
      ]
    },
    {
      "cell_type": "code",
      "metadata": {
        "id": "UrZSntmRYtFL",
        "colab": {
          "base_uri": "https://localhost:8080/"
        },
        "outputId": "98c41c38-7f42-44d8-f9fb-753f68a7174e"
      },
      "source": [
        "# Choose the best minimum split sample based on the plot\n",
        "Best_minSampl = min_samples_splits[np.argmax(val_results)]\n",
        "\n",
        "# Train decision tree using the full training data and the best minimum split sample\n",
        "wine_quality_predictor=DecisionTreeClassifier(random_state=12, min_samples_split=Best_minSampl )\n",
        "# measure training time\n",
        "start_time = time.time()\n",
        "wine_quality_predictor.fit(train_df,train_labels)\n",
        "print(\"Time for the training: %.4f secs\" % (time.time()-start_time))\n",
        "\n",
        "# Estimate the prediction of the test data\n",
        "\n",
        "# Performance on test set\n",
        "start_time_acc = time.time()\n",
        "test_pred = wine_quality_predictor.predict(test_df)\n",
        "print(\"Time for the prediction: %.4f secs\" % (time.time()-start_time_acc))\n",
        "from sklearn.metrics import accuracy_score\n",
        "# Calculate accuracy of test data\n",
        "\n",
        "TestAcc = accuracy_score(test_labels,test_pred)\n",
        "print(\"Testing Accuracy = %.4f%%\" % (TestAcc * 100))"
      ],
      "execution_count": null,
      "outputs": [
        {
          "output_type": "stream",
          "text": [
            "Time for the training: 0.0483 secs\n",
            "Time for the prediction: 0.0027 secs\n",
            "Testing Accuracy = 82.6790%\n"
          ],
          "name": "stdout"
        }
      ]
    },
    {
      "cell_type": "markdown",
      "metadata": {
        "id": "a_GMi20MO3lr"
      },
      "source": [
        "# 6) Apply the same procedure but using k-NN instead of decision tree\n",
        "\n",
        "For finetuning, find the best value of K to use with this dataset."
      ]
    },
    {
      "cell_type": "code",
      "metadata": {
        "id": "SKZoNasEO9BT",
        "colab": {
          "base_uri": "https://localhost:8080/"
        },
        "outputId": "ad2d8092-1f0d-464a-e0c9-f3489c1ec176"
      },
      "source": [
        "from sklearn.neighbors import KNeighborsClassifier\n",
        "\n",
        "# initialize the values of k to be a list of odd numbers between 1 and 30\n",
        "kVals = list(range(1, 30,2))\n",
        "accuracies = []\n",
        "# loop over values of k for the k-Nearest Neighbor classifier\n",
        "for k in kVals:\n",
        "  modeltrain= KNeighborsClassifier(n_neighbors=k)\n",
        "  modeltrain.fit(x_train,y_train)\n",
        "  \n",
        "  val_score = modeltrain.score(x_val,y_val)\n",
        "  accuracies.append(val_score)\n",
        "print(\"Best Validation Accuracy = %.4f%%\" % (np.max(accuracies)*100))"
      ],
      "execution_count": null,
      "outputs": [
        {
          "output_type": "stream",
          "text": [
            "Best Validation Accuracy = 80.3846%\n"
          ],
          "name": "stdout"
        }
      ]
    },
    {
      "cell_type": "code",
      "metadata": {
        "colab": {
          "base_uri": "https://localhost:8080/",
          "height": 265
        },
        "id": "gPsD9X1FknUN",
        "outputId": "1c3c6ed4-b590-46f0-ce98-0cb84839d224"
      },
      "source": [
        "# Plot the results\n",
        "import matplotlib.pyplot as plt\n",
        "\n",
        "plt.plot(kVals,accuracies, 'b')\n",
        "\n",
        "plt.show()"
      ],
      "execution_count": null,
      "outputs": [
        {
          "output_type": "display_data",
          "data": {
            "image/png": "[encoded data removed]",
            "text/plain": [
              "<Figure size 432x288 with 1 Axes>"
            ]
          },
          "metadata": {
            "tags": [],
            "needs_background": "light"
          }
        }
      ]
    },
    {
      "cell_type": "code",
      "metadata": {
        "id": "w1PtA576uw9t",
        "colab": {
          "base_uri": "https://localhost:8080/"
        },
        "outputId": "5d1aeb95-5ff2-413e-f646-d73c66a96c7b"
      },
      "source": [
        "# Train k-NN using the full training data with the best K that you found\n",
        "Best_k = kVals[np.argmax(accuracies)]\n",
        "print(\"k value= %d\" %(Best_k ) )\n",
        "\n",
        "modeltrain1= KNeighborsClassifier(n_neighbors=Best_k)\n",
        "# measure training time\n",
        "start_time = time.time()\n",
        "modeltrain1.fit(train_df,train_labels)\n",
        "print(\"Time for the training: %.4f secs\" % (time.time()-start_time))\n",
        "\n",
        "# Estimate the prediction of the test data\n",
        "# Performance on test set\n",
        "start_time_acc = time.time()\n",
        "test_p = modeltrain1.predict(test_df)\n",
        "print(\"Time for the prediction: %.4f secs\" % (time.time()-start_time_acc))\n",
        "\n",
        "# Testing\n",
        "from sklearn.metrics import accuracy_score\n",
        "# Calculate accuracy of test data\n",
        "TestAccuracy = accuracy_score(test_labels,test_p)\n",
        "print(\"Testing Accuracy = %.4f%%\" % (TestAccuracy * 100))\n"
      ],
      "execution_count": null,
      "outputs": [
        {
          "output_type": "stream",
          "text": [
            "k value= 29\n",
            "Time for the training: 0.0120 secs\n",
            "Time for the prediction: 0.0765 secs\n",
            "Testing Accuracy = 80.9084%\n"
          ],
          "name": "stdout"
        }
      ]
    },
    {
      "cell_type": "markdown",
      "metadata": {
        "id": "KmL4-FHqO_sq"
      },
      "source": [
        "# 7) Notebook & Report\n",
        "\n",
        "Notebook: We may just look at your notebook results; so make sure each cell is run and outputs are there.\n",
        "\n",
        "Report: Write an at most 1/2 page summary of your approach to this problem at the end of your notebook; this should be like an abstract of a paper or the executive summary.\n",
        "\n",
        "Must include statements such as:\n",
        "\n",
        "( Include the problem definition: 1-2 lines )\n",
        "\n",
        "(Talk about any preprocessing you did, explain your reasoning)\n",
        "\n",
        "(Talk about train/val/test sets, size and how split)\n",
        "\n",
        "(State what your test results are with the chosen method, parameters: e.g. \"We have obtained the best results with the ….. classifier (parameters=....) , giving classification accuracy of …% on test data….\")\n",
        "\n",
        "(Comment on the speed of the algorithms and anything else that you deem important/interesting)\n",
        "\n",
        "\n",
        "You will get full points from here as long as you have a good (enough) summary of your work, regardless of your best performance or what you have decided to talk about in the last few lines.\n",
        "\n"
      ]
    },
    {
      "cell_type": "markdown",
      "metadata": {
        "id": "YBjX29muPFu0"
      },
      "source": [
        "\n",
        "\n",
        "---\n",
        "**Problem Definition:** The aim of this project is to build a machine learning model to classify the quality of a given wine as good or bad based on its attributes.Two of the following classification models are compared based on their performances :\n",
        "1. Decision tree \n",
        "2. k-NN classifiers \n",
        "\n",
        "**Preprocessing:**The data set was divided into test and train data sets.In order to understand the data better, we analyzed the target variable (quality of wine) and predictor varaibles and thier data types.No exclusion of row/enteries was needed because as observed there were no null values in any of the columns for both data sets.Moreover,the data sets did not require any data extraction because there were no predictor varaibles (features other than the target feature/label) which were irrelevant example id of each entry etc that might effect the performance of the model.There seem to be two categorcial features i.e wine type and quality.Before spliting data for hyper-parameter tunning and training of the model, the target feature/label was removed from both the data sets which would effect the performace and result in a biased model and stored.\n",
        "\n",
        "**HyperParameter Tunning:** To achieve the best possible accuracy results and performace for each,hyperparameter tunning is carried out for each model.In order to choose the best hyerparameter the train data set was used and split it in a ratio 70:30.While spliting the value of the random_state variable was kept to a value of 12 to ensure the same split is avhieved everytime.The bigger split of the train data is used to train the model while the smaller portion was kept for validation over a range of values for a hyperparameter in each model and the results are documented.The hyperparameter that performs the best and gives the highest validation accuracy result is then again used to create a model,if there are multiple similar highest validation accuracy scores we then chose amongst them based on highest training , the whole training set was used the next time to train the model and the test data set is used to find the test accuracy score for both the models.\n",
        "It is important to note that for hyperparameter tunnning only the following hyerparatmeters were considered, the rest of the hyperparamters were set to deafult:\n",
        "\n",
        "1. Decision tree = min_samples_split\n",
        "2. k-NN classifiers = n_neighbors\n",
        "\n",
        "**Results obtained:** \n",
        "1. The following table illustrates the suitable hyperparameter with the highest validation accuracy across a number of values:\n",
        "\n",
        "a) Decision Trees\n",
        "\n",
        "| Model \t| min_samples_split \t| Validation Accuracy Score (%) \t|\n",
        "|-\t|-\t|-\t|\n",
        "| Decision Tree \t| 5 \t| 82.5 \t|\n",
        "\n",
        "b) k-NN classifiers:\n",
        "\n",
        "| Model \t| n_neigbors \t| Validation Accuracy Score (%) \t|\n",
        "|-\t|-\t|-\t|\n",
        "| k-NN classifiers \t| 29 \t|  80.3846\t|\n",
        "\n",
        "\n",
        "\n",
        "2. The following table illustrates the results for accuracy scores obtained with the best possible hyperparameters:\n",
        "\n",
        "| Model \t| Validation Accuracy Score (%) \t| Test Accuracy Score (%) \t|\n",
        "|-\t|-\t|-\t|\n",
        "| Decision Tree \t| 82.5 \t| 82.6790% \t|\n",
        "| k-NN classifiers \t| 80.3846 \t| 80.9084 \t|\n",
        "\n",
        "**Best Performance:** From the data above it is evident that we have obtained the best test acuracy result and validation accuracy with the Decision Trees Classifier where \n",
        "```\n",
        "DecisionTreeClassifier(random_state=12, min_samples_split= 5)\n",
        "```\n",
        ",giving the classification accuracy of 82.6790% on test data.\n",
        "\n",
        "**Comments: Comparison between performance and Expalanation**\n",
        "\n",
        "For each classification model we also tried to understand the speed of the training and predicition steps.In order to do so, times of these two process were recorded and are tabulated below:\n",
        "\n",
        "| Model \t| Time for the training(s) \t|  Time for the prediction(s)\t|\n",
        "|-\t|-\t|-\t|\n",
        "| Decision Tree \t| 0.0483 \t|  0.0027 \t|\n",
        "| k-NN classifiers \t| 0.0120 \t| 0.0765  \t|\n",
        "\n",
        "It can be observed from the data above that although Decision tree classifier takes longer training time comapred to the time takes by k-NN classifier during training, it is almost 28 times faster in the predicition phase.\n",
        "\n",
        "On research one possible explanation for this can be difference between the approach of the algorithms of both.\n",
        "Decision Tree Classifier is considered  as an \"Eager Learner\"  because it takes time to first build a classification model on the training dataset before  classifing an unknown instances from test dataset.Since it focus on building a model first it therefore the learned model is \"eager\" to predict unseen data and does it at a faster rate aswell as with more accuracy.Therefore,it has eager in-memory classification model ready and doesnt have to acess the data as frequently as k-NN.\n",
        "\n",
        "On the other hand, KNN-based classifier comes under the category of \"Lazy Learners\" . It does not build any classification model and takes lesser time than Decision tree classifier during training. It performs on-the-spot learning by directly learns from the training instances and  processes data only when a test instance if fed to it for classification.Hence,it requires frequent database lookups which might explain why it takes longer in the prediction phase because these lookups might be costly in terms of computation.  \n",
        "\n",
        "Note: The above stated research is done using the following resource:\n",
        "https://datascience.stackexchange.com/questions/9228/decision-tree-vs-knn\n",
        "\n",
        "**Conclusion:**\n",
        "The Decision Tree Classifier with hyperparameter tunning for min_samples_split=5 performs seems to be more efficeint choice of the two algorithm in terms of performace(accuracy of results) aswell as computational efficiecy(speed of the algorithm).\n",
        "\n",
        "\n"
      ]
    },
    {
      "cell_type": "markdown",
      "metadata": {
        "id": "lYlDdIFZPKmv"
      },
      "source": [
        "# 8) Submission\n",
        "You will submit this homework via SUCourse.\n",
        "\n",
        "\n",
        "Please read this document again before submitting it.\n",
        "\n",
        "Please submit your **\"share link\" INLINE in Sucourse submissions.** That is we should be able to click on the link and go there and run (and possibly also modify) your code.\n",
        "\n",
        "For us to be able to modify, in case of errors etc, you should get your \"share link\" as **share with anyone in edit mode** \n",
        "\n",
        "Download the **.ipynb and the .html** file and upload both of them to Sucourse.\n",
        " \n",
        "Please do your assignment individually, do not copy from a friend or the Internet. Plagiarized assignments will receive -100.\n"
      ]
    }
  ]
}